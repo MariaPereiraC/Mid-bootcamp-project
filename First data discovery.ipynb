{
 "cells": [
  {
   "cell_type": "code",
   "execution_count": 110,
   "id": "9b2e6a04",
   "metadata": {},
   "outputs": [],
   "source": [
    "# import libraries\n",
    "import pandas as pd\n",
    "import numpy as np\n",
    "import matplotlib.pyplot as plt\n",
    "import seaborn as sns\n",
    "import math\n",
    "from sklearn import linear_model\n"
   ]
  },
  {
   "cell_type": "code",
   "execution_count": 111,
   "id": "70be7439",
   "metadata": {},
   "outputs": [
    {
     "data": {
      "text/html": [
       "<div>\n",
       "<style scoped>\n",
       "    .dataframe tbody tr th:only-of-type {\n",
       "        vertical-align: middle;\n",
       "    }\n",
       "\n",
       "    .dataframe tbody tr th {\n",
       "        vertical-align: top;\n",
       "    }\n",
       "\n",
       "    .dataframe thead th {\n",
       "        text-align: right;\n",
       "    }\n",
       "</style>\n",
       "<table border=\"1\" class=\"dataframe\">\n",
       "  <thead>\n",
       "    <tr style=\"text-align: right;\">\n",
       "      <th></th>\n",
       "      <th>Unnamed: 0</th>\n",
       "      <th>betreiber</th>\n",
       "      <th>art_der_ladeeinrichung</th>\n",
       "      <th>anzahl_ladepunkte</th>\n",
       "      <th>anschlussleistung</th>\n",
       "      <th>steckertypen1</th>\n",
       "      <th>steckertypen2</th>\n",
       "      <th>steckertypen3</th>\n",
       "      <th>steckertypen4</th>\n",
       "      <th>p1_kw</th>\n",
       "      <th>...</th>\n",
       "      <th>p4_kw</th>\n",
       "      <th>kreis_kreisfreie_stadt</th>\n",
       "      <th>ort</th>\n",
       "      <th>postleitzahl</th>\n",
       "      <th>strasse</th>\n",
       "      <th>hausnummer</th>\n",
       "      <th>adresszusatz</th>\n",
       "      <th>inbetriebnahmedatum</th>\n",
       "      <th>breitengrad</th>\n",
       "      <th>laengengrad</th>\n",
       "    </tr>\n",
       "  </thead>\n",
       "  <tbody>\n",
       "    <tr>\n",
       "      <th>0</th>\n",
       "      <td>0</td>\n",
       "      <td>GGEW AG</td>\n",
       "      <td>Normalladeeinrichtung</td>\n",
       "      <td>1</td>\n",
       "      <td>4.6</td>\n",
       "      <td>AC Steckdose Typ 2</td>\n",
       "      <td>NaN</td>\n",
       "      <td>NaN</td>\n",
       "      <td>NaN</td>\n",
       "      <td>4.6</td>\n",
       "      <td>...</td>\n",
       "      <td>NaN</td>\n",
       "      <td>Landkreis Bergstraße</td>\n",
       "      <td>Lorsch</td>\n",
       "      <td>64653</td>\n",
       "      <td>Klosterstr.</td>\n",
       "      <td>23</td>\n",
       "      <td>NaN</td>\n",
       "      <td>2017-01-02</td>\n",
       "      <td>49.653064</td>\n",
       "      <td>8.572109</td>\n",
       "    </tr>\n",
       "    <tr>\n",
       "      <th>1</th>\n",
       "      <td>1</td>\n",
       "      <td>Pfalzwerke AG</td>\n",
       "      <td>Schnellladeeinrichtung</td>\n",
       "      <td>2</td>\n",
       "      <td>75.0</td>\n",
       "      <td>AC Steckdose Typ 2</td>\n",
       "      <td>DC Kupplung Combo</td>\n",
       "      <td>NaN</td>\n",
       "      <td>NaN</td>\n",
       "      <td>22.0</td>\n",
       "      <td>...</td>\n",
       "      <td>NaN</td>\n",
       "      <td>Landkreis Bergstraße</td>\n",
       "      <td>Lorsch</td>\n",
       "      <td>64653</td>\n",
       "      <td>Nibelungenstraße</td>\n",
       "      <td>135-137</td>\n",
       "      <td>NaN</td>\n",
       "      <td>2021-04-27</td>\n",
       "      <td>49.652969</td>\n",
       "      <td>8.554764</td>\n",
       "    </tr>\n",
       "    <tr>\n",
       "      <th>2</th>\n",
       "      <td>2</td>\n",
       "      <td>ENTEGA Energie GmbH</td>\n",
       "      <td>Normalladeeinrichtung</td>\n",
       "      <td>2</td>\n",
       "      <td>44.0</td>\n",
       "      <td>AC Steckdose Typ 2</td>\n",
       "      <td>AC Steckdose Typ 2</td>\n",
       "      <td>NaN</td>\n",
       "      <td>NaN</td>\n",
       "      <td>22.0</td>\n",
       "      <td>...</td>\n",
       "      <td>NaN</td>\n",
       "      <td>Landkreis Bergstraße</td>\n",
       "      <td>Fürth</td>\n",
       "      <td>64658</td>\n",
       "      <td>Krumbacher Str.</td>\n",
       "      <td>39</td>\n",
       "      <td>NaN</td>\n",
       "      <td>2017-11-21</td>\n",
       "      <td>49.658037</td>\n",
       "      <td>8.787881</td>\n",
       "    </tr>\n",
       "    <tr>\n",
       "      <th>3</th>\n",
       "      <td>3</td>\n",
       "      <td>Entega Plus GmbH</td>\n",
       "      <td>Normalladeeinrichtung</td>\n",
       "      <td>2</td>\n",
       "      <td>22.0</td>\n",
       "      <td>AC Steckdose Typ 2</td>\n",
       "      <td>AC Steckdose Typ 2</td>\n",
       "      <td>NaN</td>\n",
       "      <td>NaN</td>\n",
       "      <td>22.0</td>\n",
       "      <td>...</td>\n",
       "      <td>NaN</td>\n",
       "      <td>Landkreis Bergstraße</td>\n",
       "      <td>Fürth</td>\n",
       "      <td>64658</td>\n",
       "      <td>Erbacher Str.</td>\n",
       "      <td>102</td>\n",
       "      <td>a</td>\n",
       "      <td>2022-04-08</td>\n",
       "      <td>49.663670</td>\n",
       "      <td>8.796830</td>\n",
       "    </tr>\n",
       "    <tr>\n",
       "      <th>4</th>\n",
       "      <td>4</td>\n",
       "      <td>Entega Plus GmbH</td>\n",
       "      <td>Normalladeeinrichtung</td>\n",
       "      <td>2</td>\n",
       "      <td>22.0</td>\n",
       "      <td>AC Steckdose Typ 2</td>\n",
       "      <td>AC Steckdose Typ 2</td>\n",
       "      <td>NaN</td>\n",
       "      <td>NaN</td>\n",
       "      <td>22.0</td>\n",
       "      <td>...</td>\n",
       "      <td>NaN</td>\n",
       "      <td>Landkreis Bergstraße</td>\n",
       "      <td>Fürth</td>\n",
       "      <td>64658</td>\n",
       "      <td>Schulstr.</td>\n",
       "      <td>12</td>\n",
       "      <td>NaN</td>\n",
       "      <td>2022-04-08</td>\n",
       "      <td>49.646360</td>\n",
       "      <td>8.781410</td>\n",
       "    </tr>\n",
       "    <tr>\n",
       "      <th>...</th>\n",
       "      <td>...</td>\n",
       "      <td>...</td>\n",
       "      <td>...</td>\n",
       "      <td>...</td>\n",
       "      <td>...</td>\n",
       "      <td>...</td>\n",
       "      <td>...</td>\n",
       "      <td>...</td>\n",
       "      <td>...</td>\n",
       "      <td>...</td>\n",
       "      <td>...</td>\n",
       "      <td>...</td>\n",
       "      <td>...</td>\n",
       "      <td>...</td>\n",
       "      <td>...</td>\n",
       "      <td>...</td>\n",
       "      <td>...</td>\n",
       "      <td>...</td>\n",
       "      <td>...</td>\n",
       "      <td>...</td>\n",
       "      <td>...</td>\n",
       "    </tr>\n",
       "    <tr>\n",
       "      <th>36765</th>\n",
       "      <td>36765</td>\n",
       "      <td>Stadtwerke Leipzig GmbH</td>\n",
       "      <td>Normalladeeinrichtung</td>\n",
       "      <td>2</td>\n",
       "      <td>30.0</td>\n",
       "      <td>AC Steckdose Typ 2</td>\n",
       "      <td>AC Steckdose Typ 2</td>\n",
       "      <td>NaN</td>\n",
       "      <td>NaN</td>\n",
       "      <td>22.0</td>\n",
       "      <td>...</td>\n",
       "      <td>NaN</td>\n",
       "      <td>Kreisfreie Stadt Leipzig</td>\n",
       "      <td>Leipzig</td>\n",
       "      <td>4277</td>\n",
       "      <td>Bornaische Straße</td>\n",
       "      <td>108</td>\n",
       "      <td>NaN</td>\n",
       "      <td>2016-06-01</td>\n",
       "      <td>51.301227</td>\n",
       "      <td>12.384566</td>\n",
       "    </tr>\n",
       "    <tr>\n",
       "      <th>36766</th>\n",
       "      <td>36766</td>\n",
       "      <td>Stadtwerke Leipzig GmbH</td>\n",
       "      <td>Normalladeeinrichtung</td>\n",
       "      <td>2</td>\n",
       "      <td>30.0</td>\n",
       "      <td>AC Steckdose Typ 2</td>\n",
       "      <td>AC Steckdose Typ 2</td>\n",
       "      <td>NaN</td>\n",
       "      <td>NaN</td>\n",
       "      <td>22.0</td>\n",
       "      <td>...</td>\n",
       "      <td>NaN</td>\n",
       "      <td>Kreisfreie Stadt Leipzig</td>\n",
       "      <td>Leipzig</td>\n",
       "      <td>4277</td>\n",
       "      <td>Scheffelstraße</td>\n",
       "      <td>35</td>\n",
       "      <td>NaN</td>\n",
       "      <td>2016-06-01</td>\n",
       "      <td>51.311695</td>\n",
       "      <td>12.372912</td>\n",
       "    </tr>\n",
       "    <tr>\n",
       "      <th>36767</th>\n",
       "      <td>36767</td>\n",
       "      <td>Stadtwerke Leipzig GmbH</td>\n",
       "      <td>Normalladeeinrichtung</td>\n",
       "      <td>2</td>\n",
       "      <td>30.0</td>\n",
       "      <td>AC Steckdose Typ 2</td>\n",
       "      <td>AC Steckdose Typ 2</td>\n",
       "      <td>NaN</td>\n",
       "      <td>NaN</td>\n",
       "      <td>22.0</td>\n",
       "      <td>...</td>\n",
       "      <td>NaN</td>\n",
       "      <td>Kreisfreie Stadt Leipzig</td>\n",
       "      <td>Leipzig</td>\n",
       "      <td>4277</td>\n",
       "      <td>Bornaische Straße</td>\n",
       "      <td>55</td>\n",
       "      <td>NaN</td>\n",
       "      <td>2018-07-05</td>\n",
       "      <td>51.305046</td>\n",
       "      <td>12.382487</td>\n",
       "    </tr>\n",
       "    <tr>\n",
       "      <th>36768</th>\n",
       "      <td>36768</td>\n",
       "      <td>Stadtwerke Leipzig GmbH</td>\n",
       "      <td>Normalladeeinrichtung</td>\n",
       "      <td>2</td>\n",
       "      <td>30.0</td>\n",
       "      <td>AC Steckdose Typ 2</td>\n",
       "      <td>AC Steckdose Typ 2</td>\n",
       "      <td>NaN</td>\n",
       "      <td>NaN</td>\n",
       "      <td>22.0</td>\n",
       "      <td>...</td>\n",
       "      <td>NaN</td>\n",
       "      <td>Kreisfreie Stadt Leipzig</td>\n",
       "      <td>Leipzig</td>\n",
       "      <td>4277</td>\n",
       "      <td>Richard Lehmann Straße</td>\n",
       "      <td>120</td>\n",
       "      <td>NaN</td>\n",
       "      <td>2019-08-12</td>\n",
       "      <td>51.314325</td>\n",
       "      <td>12.397213</td>\n",
       "    </tr>\n",
       "    <tr>\n",
       "      <th>36769</th>\n",
       "      <td>36769</td>\n",
       "      <td>Stadtwerke Leipzig GmbH</td>\n",
       "      <td>Normalladeeinrichtung</td>\n",
       "      <td>2</td>\n",
       "      <td>22.0</td>\n",
       "      <td>AC Kupplung Typ 2</td>\n",
       "      <td>AC Kupplung Typ 2</td>\n",
       "      <td>NaN</td>\n",
       "      <td>NaN</td>\n",
       "      <td>11.0</td>\n",
       "      <td>...</td>\n",
       "      <td>NaN</td>\n",
       "      <td>Kreisfreie Stadt Leipzig</td>\n",
       "      <td>Leipzig</td>\n",
       "      <td>4277</td>\n",
       "      <td>Eichendorffstraße</td>\n",
       "      <td>11</td>\n",
       "      <td>Parkplatz Fitnessstudio, Zuganskarte notwendig</td>\n",
       "      <td>2022-04-13</td>\n",
       "      <td>51.314364</td>\n",
       "      <td>12.374747</td>\n",
       "    </tr>\n",
       "  </tbody>\n",
       "</table>\n",
       "<p>36770 rows × 22 columns</p>\n",
       "</div>"
      ],
      "text/plain": [
       "       Unnamed: 0                betreiber  art_der_ladeeinrichung  \\\n",
       "0               0                  GGEW AG   Normalladeeinrichtung   \n",
       "1               1            Pfalzwerke AG  Schnellladeeinrichtung   \n",
       "2               2      ENTEGA Energie GmbH   Normalladeeinrichtung   \n",
       "3               3         Entega Plus GmbH   Normalladeeinrichtung   \n",
       "4               4         Entega Plus GmbH   Normalladeeinrichtung   \n",
       "...           ...                      ...                     ...   \n",
       "36765       36765  Stadtwerke Leipzig GmbH   Normalladeeinrichtung   \n",
       "36766       36766  Stadtwerke Leipzig GmbH   Normalladeeinrichtung   \n",
       "36767       36767  Stadtwerke Leipzig GmbH   Normalladeeinrichtung   \n",
       "36768       36768  Stadtwerke Leipzig GmbH   Normalladeeinrichtung   \n",
       "36769       36769  Stadtwerke Leipzig GmbH   Normalladeeinrichtung   \n",
       "\n",
       "       anzahl_ladepunkte  anschlussleistung       steckertypen1  \\\n",
       "0                      1                4.6  AC Steckdose Typ 2   \n",
       "1                      2               75.0  AC Steckdose Typ 2   \n",
       "2                      2               44.0  AC Steckdose Typ 2   \n",
       "3                      2               22.0  AC Steckdose Typ 2   \n",
       "4                      2               22.0  AC Steckdose Typ 2   \n",
       "...                  ...                ...                 ...   \n",
       "36765                  2               30.0  AC Steckdose Typ 2   \n",
       "36766                  2               30.0  AC Steckdose Typ 2   \n",
       "36767                  2               30.0  AC Steckdose Typ 2   \n",
       "36768                  2               30.0  AC Steckdose Typ 2   \n",
       "36769                  2               22.0   AC Kupplung Typ 2   \n",
       "\n",
       "            steckertypen2 steckertypen3 steckertypen4  p1_kw  ...  p4_kw  \\\n",
       "0                     NaN           NaN           NaN    4.6  ...    NaN   \n",
       "1       DC Kupplung Combo           NaN           NaN   22.0  ...    NaN   \n",
       "2      AC Steckdose Typ 2           NaN           NaN   22.0  ...    NaN   \n",
       "3      AC Steckdose Typ 2           NaN           NaN   22.0  ...    NaN   \n",
       "4      AC Steckdose Typ 2           NaN           NaN   22.0  ...    NaN   \n",
       "...                   ...           ...           ...    ...  ...    ...   \n",
       "36765  AC Steckdose Typ 2           NaN           NaN   22.0  ...    NaN   \n",
       "36766  AC Steckdose Typ 2           NaN           NaN   22.0  ...    NaN   \n",
       "36767  AC Steckdose Typ 2           NaN           NaN   22.0  ...    NaN   \n",
       "36768  AC Steckdose Typ 2           NaN           NaN   22.0  ...    NaN   \n",
       "36769   AC Kupplung Typ 2           NaN           NaN   11.0  ...    NaN   \n",
       "\n",
       "         kreis_kreisfreie_stadt      ort postleitzahl                 strasse  \\\n",
       "0          Landkreis Bergstraße   Lorsch        64653             Klosterstr.   \n",
       "1          Landkreis Bergstraße   Lorsch        64653        Nibelungenstraße   \n",
       "2          Landkreis Bergstraße    Fürth        64658         Krumbacher Str.   \n",
       "3          Landkreis Bergstraße    Fürth        64658           Erbacher Str.   \n",
       "4          Landkreis Bergstraße    Fürth        64658               Schulstr.   \n",
       "...                         ...      ...          ...                     ...   \n",
       "36765  Kreisfreie Stadt Leipzig  Leipzig         4277       Bornaische Straße   \n",
       "36766  Kreisfreie Stadt Leipzig  Leipzig         4277          Scheffelstraße   \n",
       "36767  Kreisfreie Stadt Leipzig  Leipzig         4277       Bornaische Straße   \n",
       "36768  Kreisfreie Stadt Leipzig  Leipzig         4277  Richard Lehmann Straße   \n",
       "36769  Kreisfreie Stadt Leipzig  Leipzig         4277       Eichendorffstraße   \n",
       "\n",
       "       hausnummer                                    adresszusatz  \\\n",
       "0              23                                             NaN   \n",
       "1         135-137                                             NaN   \n",
       "2              39                                             NaN   \n",
       "3             102                                               a   \n",
       "4              12                                             NaN   \n",
       "...           ...                                             ...   \n",
       "36765         108                                             NaN   \n",
       "36766          35                                             NaN   \n",
       "36767          55                                             NaN   \n",
       "36768         120                                             NaN   \n",
       "36769          11  Parkplatz Fitnessstudio, Zuganskarte notwendig   \n",
       "\n",
       "      inbetriebnahmedatum breitengrad laengengrad  \n",
       "0              2017-01-02   49.653064    8.572109  \n",
       "1              2021-04-27   49.652969    8.554764  \n",
       "2              2017-11-21   49.658037    8.787881  \n",
       "3              2022-04-08   49.663670    8.796830  \n",
       "4              2022-04-08   49.646360    8.781410  \n",
       "...                   ...         ...         ...  \n",
       "36765          2016-06-01   51.301227   12.384566  \n",
       "36766          2016-06-01   51.311695   12.372912  \n",
       "36767          2018-07-05   51.305046   12.382487  \n",
       "36768          2019-08-12   51.314325   12.397213  \n",
       "36769          2022-04-13   51.314364   12.374747  \n",
       "\n",
       "[36770 rows x 22 columns]"
      ]
     },
     "execution_count": 111,
     "metadata": {},
     "output_type": "execute_result"
    }
   ],
   "source": [
    "# import dataset\n",
    "\n",
    "charging_df = pd.read_csv('charging_data.csv')\n",
    "charging_df\n"
   ]
  },
  {
   "cell_type": "code",
   "execution_count": 112,
   "id": "14b00d03",
   "metadata": {},
   "outputs": [],
   "source": [
    "charging_df.rename(columns={'art_der_ladeeinrichung': 'type_of_charging_equipment'}, inplace=True)"
   ]
  },
  {
   "cell_type": "code",
   "execution_count": 113,
   "id": "3416339e",
   "metadata": {},
   "outputs": [
    {
     "name": "stdout",
     "output_type": "stream",
     "text": [
      "['Unnamed: 0', 'betreiber', 'type_of_charging_equipment', 'anzahl_ladepunkte', 'anschlussleistung', 'steckertypen1', 'steckertypen2', 'steckertypen3', 'steckertypen4', 'p1_kw', 'p2_kw', 'p3_kw', 'p4_kw', 'kreis_kreisfreie_stadt', 'ort', 'postleitzahl', 'strasse', 'hausnummer', 'adresszusatz', 'inbetriebnahmedatum', 'breitengrad', 'laengengrad']\n"
     ]
    }
   ],
   "source": [
    "columns_list = charging_df.columns.tolist()\n",
    "print(columns_list)"
   ]
  },
  {
   "cell_type": "code",
   "execution_count": 114,
   "id": "b72a8327",
   "metadata": {},
   "outputs": [],
   "source": [
    "charging_df.rename(columns={'anzahl_ladepunkte': 'number_of_charging_points'}, inplace=True)"
   ]
  },
  {
   "cell_type": "code",
   "execution_count": 115,
   "id": "4b74e243",
   "metadata": {},
   "outputs": [],
   "source": [
    "charging_df.rename(columns={'anschlussleistung': 'connected_load'}, inplace=True)"
   ]
  },
  {
   "cell_type": "code",
   "execution_count": 116,
   "id": "3b43edf2",
   "metadata": {},
   "outputs": [],
   "source": [
    "charging_df.rename(columns={'steckertypen1': 'plug_types_1'}, inplace=True)"
   ]
  },
  {
   "cell_type": "code",
   "execution_count": 117,
   "id": "ccdc813a",
   "metadata": {},
   "outputs": [],
   "source": [
    "new_column_names = {'steckertypen2': 'plug_types_2', 'steckertypen3': 'plug_types_3', 'steckertypen4': 'plug_types_4','kreis_kreisfreie_stadt': 'district_city', 'ort': 'city', 'postleitzahl': 'zip_code', 'strasse': 'street', 'hausnummer': 'house_number', 'adresszusatz':'secondary_address','inbetriebnahmedatum': 'date_of_commissioning', 'breitengrad': 'latitude', 'laengengrad':'longitude'}\n",
    "charging_df.rename(columns=new_column_names, inplace=True)"
   ]
  },
  {
   "cell_type": "code",
   "execution_count": 118,
   "id": "16a67bca",
   "metadata": {},
   "outputs": [
    {
     "name": "stdout",
     "output_type": "stream",
     "text": [
      "['Unnamed: 0', 'betreiber', 'type_of_charging_equipment', 'number_of_charging_points', 'connected_load', 'plug_types_1', 'plug_types_2', 'plug_types_3', 'plug_types_4', 'p1_kw', 'p2_kw', 'p3_kw', 'p4_kw', 'district_city', 'city', 'zip_code', 'street', 'house_number', 'secondary_address', 'date_of_commissioning', 'latitude', 'longitude']\n"
     ]
    }
   ],
   "source": [
    "column_names = charging_df.columns.tolist()\n",
    "print(column_names)"
   ]
  },
  {
   "cell_type": "code",
   "execution_count": 119,
   "id": "6619d739",
   "metadata": {},
   "outputs": [],
   "source": [
    "charging_df.rename(columns={'betreiber': 'operator'}, inplace=True)"
   ]
  },
  {
   "cell_type": "code",
   "execution_count": 120,
   "id": "6d3d2b68",
   "metadata": {
    "scrolled": true
   },
   "outputs": [
    {
     "name": "stdout",
     "output_type": "stream",
     "text": [
      "['Unnamed: 0', 'operator', 'type_of_charging_equipment', 'number_of_charging_points', 'connected_load', 'plug_types_1', 'plug_types_2', 'plug_types_3', 'plug_types_4', 'p1_kw', 'p2_kw', 'p3_kw', 'p4_kw', 'district_city', 'city', 'zip_code', 'street', 'house_number', 'secondary_address', 'date_of_commissioning', 'latitude', 'longitude']\n"
     ]
    }
   ],
   "source": [
    "column_names = charging_df.columns.tolist()\n",
    "print(column_names)"
   ]
  },
  {
   "cell_type": "code",
   "execution_count": 121,
   "id": "6d053dd0",
   "metadata": {},
   "outputs": [
    {
     "data": {
      "text/html": [
       "<div>\n",
       "<style scoped>\n",
       "    .dataframe tbody tr th:only-of-type {\n",
       "        vertical-align: middle;\n",
       "    }\n",
       "\n",
       "    .dataframe tbody tr th {\n",
       "        vertical-align: top;\n",
       "    }\n",
       "\n",
       "    .dataframe thead th {\n",
       "        text-align: right;\n",
       "    }\n",
       "</style>\n",
       "<table border=\"1\" class=\"dataframe\">\n",
       "  <thead>\n",
       "    <tr style=\"text-align: right;\">\n",
       "      <th></th>\n",
       "      <th>Unnamed: 0</th>\n",
       "      <th>operator</th>\n",
       "      <th>type_of_charging_equipment</th>\n",
       "      <th>number_of_charging_points</th>\n",
       "      <th>connected_load</th>\n",
       "      <th>plug_types_1</th>\n",
       "      <th>plug_types_2</th>\n",
       "      <th>plug_types_3</th>\n",
       "      <th>plug_types_4</th>\n",
       "      <th>p1_kw</th>\n",
       "      <th>...</th>\n",
       "      <th>p4_kw</th>\n",
       "      <th>district_city</th>\n",
       "      <th>city</th>\n",
       "      <th>zip_code</th>\n",
       "      <th>street</th>\n",
       "      <th>house_number</th>\n",
       "      <th>secondary_address</th>\n",
       "      <th>date_of_commissioning</th>\n",
       "      <th>latitude</th>\n",
       "      <th>longitude</th>\n",
       "    </tr>\n",
       "  </thead>\n",
       "  <tbody>\n",
       "    <tr>\n",
       "      <th>0</th>\n",
       "      <td>0</td>\n",
       "      <td>GGEW AG</td>\n",
       "      <td>Normalladeeinrichtung</td>\n",
       "      <td>1</td>\n",
       "      <td>4.6</td>\n",
       "      <td>AC Steckdose Typ 2</td>\n",
       "      <td>NaN</td>\n",
       "      <td>NaN</td>\n",
       "      <td>NaN</td>\n",
       "      <td>4.6</td>\n",
       "      <td>...</td>\n",
       "      <td>NaN</td>\n",
       "      <td>Landkreis Bergstraße</td>\n",
       "      <td>Lorsch</td>\n",
       "      <td>64653</td>\n",
       "      <td>Klosterstr.</td>\n",
       "      <td>23</td>\n",
       "      <td>NaN</td>\n",
       "      <td>2017-01-02</td>\n",
       "      <td>49.653064</td>\n",
       "      <td>8.572109</td>\n",
       "    </tr>\n",
       "    <tr>\n",
       "      <th>1</th>\n",
       "      <td>1</td>\n",
       "      <td>Pfalzwerke AG</td>\n",
       "      <td>Schnellladeeinrichtung</td>\n",
       "      <td>2</td>\n",
       "      <td>75.0</td>\n",
       "      <td>AC Steckdose Typ 2</td>\n",
       "      <td>DC Kupplung Combo</td>\n",
       "      <td>NaN</td>\n",
       "      <td>NaN</td>\n",
       "      <td>22.0</td>\n",
       "      <td>...</td>\n",
       "      <td>NaN</td>\n",
       "      <td>Landkreis Bergstraße</td>\n",
       "      <td>Lorsch</td>\n",
       "      <td>64653</td>\n",
       "      <td>Nibelungenstraße</td>\n",
       "      <td>135-137</td>\n",
       "      <td>NaN</td>\n",
       "      <td>2021-04-27</td>\n",
       "      <td>49.652969</td>\n",
       "      <td>8.554764</td>\n",
       "    </tr>\n",
       "    <tr>\n",
       "      <th>2</th>\n",
       "      <td>2</td>\n",
       "      <td>ENTEGA Energie GmbH</td>\n",
       "      <td>Normalladeeinrichtung</td>\n",
       "      <td>2</td>\n",
       "      <td>44.0</td>\n",
       "      <td>AC Steckdose Typ 2</td>\n",
       "      <td>AC Steckdose Typ 2</td>\n",
       "      <td>NaN</td>\n",
       "      <td>NaN</td>\n",
       "      <td>22.0</td>\n",
       "      <td>...</td>\n",
       "      <td>NaN</td>\n",
       "      <td>Landkreis Bergstraße</td>\n",
       "      <td>Fürth</td>\n",
       "      <td>64658</td>\n",
       "      <td>Krumbacher Str.</td>\n",
       "      <td>39</td>\n",
       "      <td>NaN</td>\n",
       "      <td>2017-11-21</td>\n",
       "      <td>49.658037</td>\n",
       "      <td>8.787881</td>\n",
       "    </tr>\n",
       "    <tr>\n",
       "      <th>3</th>\n",
       "      <td>3</td>\n",
       "      <td>Entega Plus GmbH</td>\n",
       "      <td>Normalladeeinrichtung</td>\n",
       "      <td>2</td>\n",
       "      <td>22.0</td>\n",
       "      <td>AC Steckdose Typ 2</td>\n",
       "      <td>AC Steckdose Typ 2</td>\n",
       "      <td>NaN</td>\n",
       "      <td>NaN</td>\n",
       "      <td>22.0</td>\n",
       "      <td>...</td>\n",
       "      <td>NaN</td>\n",
       "      <td>Landkreis Bergstraße</td>\n",
       "      <td>Fürth</td>\n",
       "      <td>64658</td>\n",
       "      <td>Erbacher Str.</td>\n",
       "      <td>102</td>\n",
       "      <td>a</td>\n",
       "      <td>2022-04-08</td>\n",
       "      <td>49.663670</td>\n",
       "      <td>8.796830</td>\n",
       "    </tr>\n",
       "    <tr>\n",
       "      <th>4</th>\n",
       "      <td>4</td>\n",
       "      <td>Entega Plus GmbH</td>\n",
       "      <td>Normalladeeinrichtung</td>\n",
       "      <td>2</td>\n",
       "      <td>22.0</td>\n",
       "      <td>AC Steckdose Typ 2</td>\n",
       "      <td>AC Steckdose Typ 2</td>\n",
       "      <td>NaN</td>\n",
       "      <td>NaN</td>\n",
       "      <td>22.0</td>\n",
       "      <td>...</td>\n",
       "      <td>NaN</td>\n",
       "      <td>Landkreis Bergstraße</td>\n",
       "      <td>Fürth</td>\n",
       "      <td>64658</td>\n",
       "      <td>Schulstr.</td>\n",
       "      <td>12</td>\n",
       "      <td>NaN</td>\n",
       "      <td>2022-04-08</td>\n",
       "      <td>49.646360</td>\n",
       "      <td>8.781410</td>\n",
       "    </tr>\n",
       "  </tbody>\n",
       "</table>\n",
       "<p>5 rows × 22 columns</p>\n",
       "</div>"
      ],
      "text/plain": [
       "   Unnamed: 0             operator type_of_charging_equipment  \\\n",
       "0           0              GGEW AG      Normalladeeinrichtung   \n",
       "1           1        Pfalzwerke AG     Schnellladeeinrichtung   \n",
       "2           2  ENTEGA Energie GmbH      Normalladeeinrichtung   \n",
       "3           3     Entega Plus GmbH      Normalladeeinrichtung   \n",
       "4           4     Entega Plus GmbH      Normalladeeinrichtung   \n",
       "\n",
       "   number_of_charging_points  connected_load        plug_types_1  \\\n",
       "0                          1             4.6  AC Steckdose Typ 2   \n",
       "1                          2            75.0  AC Steckdose Typ 2   \n",
       "2                          2            44.0  AC Steckdose Typ 2   \n",
       "3                          2            22.0  AC Steckdose Typ 2   \n",
       "4                          2            22.0  AC Steckdose Typ 2   \n",
       "\n",
       "         plug_types_2 plug_types_3 plug_types_4  p1_kw  ...  p4_kw  \\\n",
       "0                 NaN          NaN          NaN    4.6  ...    NaN   \n",
       "1   DC Kupplung Combo          NaN          NaN   22.0  ...    NaN   \n",
       "2  AC Steckdose Typ 2          NaN          NaN   22.0  ...    NaN   \n",
       "3  AC Steckdose Typ 2          NaN          NaN   22.0  ...    NaN   \n",
       "4  AC Steckdose Typ 2          NaN          NaN   22.0  ...    NaN   \n",
       "\n",
       "          district_city    city zip_code            street  house_number  \\\n",
       "0  Landkreis Bergstraße  Lorsch    64653       Klosterstr.            23   \n",
       "1  Landkreis Bergstraße  Lorsch    64653  Nibelungenstraße       135-137   \n",
       "2  Landkreis Bergstraße   Fürth    64658   Krumbacher Str.            39   \n",
       "3  Landkreis Bergstraße   Fürth    64658     Erbacher Str.           102   \n",
       "4  Landkreis Bergstraße   Fürth    64658         Schulstr.            12   \n",
       "\n",
       "  secondary_address date_of_commissioning   latitude longitude  \n",
       "0               NaN            2017-01-02  49.653064  8.572109  \n",
       "1               NaN            2021-04-27  49.652969  8.554764  \n",
       "2               NaN            2017-11-21  49.658037  8.787881  \n",
       "3                 a            2022-04-08  49.663670  8.796830  \n",
       "4               NaN            2022-04-08  49.646360  8.781410  \n",
       "\n",
       "[5 rows x 22 columns]"
      ]
     },
     "execution_count": 121,
     "metadata": {},
     "output_type": "execute_result"
    }
   ],
   "source": [
    "charging_df.head()"
   ]
  },
  {
   "cell_type": "code",
   "execution_count": 122,
   "id": "38efafdf",
   "metadata": {},
   "outputs": [
    {
     "data": {
      "text/plain": [
       "array([    0,     1,     2, ..., 36767, 36768, 36769])"
      ]
     },
     "execution_count": 122,
     "metadata": {},
     "output_type": "execute_result"
    }
   ],
   "source": [
    "charging_df['Unnamed: 0'].unique() \n",
    "#this seems like an identifier column, which does not make sense to consider in the analysis but will not drop it now"
   ]
  },
  {
   "cell_type": "code",
   "execution_count": 123,
   "id": "fbb0b1a8",
   "metadata": {
    "scrolled": false
   },
   "outputs": [
    {
     "data": {
      "text/plain": [
       "array(['GGEW AG', 'Pfalzwerke AG', 'ENTEGA Energie GmbH', ...,\n",
       "       'Auto Müller & Sohn OHG', 'Autohaus Dresden Reick GmbH & Co.KG',\n",
       "       'Ingenieurbüro'], dtype=object)"
      ]
     },
     "execution_count": 123,
     "metadata": {},
     "output_type": "execute_result"
    }
   ],
   "source": [
    "charging_df['operator'].unique().T"
   ]
  },
  {
   "cell_type": "code",
   "execution_count": 124,
   "id": "ccfe7bd4",
   "metadata": {
    "scrolled": false
   },
   "outputs": [
    {
     "name": "stdout",
     "output_type": "stream",
     "text": [
      "operator\n",
      "E.ON Drive GmbH                        2154\n",
      "EnBW mobility+ AG und Co.KG            2006\n",
      "EWE Go GmbH                             894\n",
      "Mercedes-Benz AG                        825\n",
      "Westenergie Metering GmbH               795\n",
      "                                       ... \n",
      "Stadtwerke Waiblingen GmbH               52\n",
      "Stadtwerke Göttingen eMobil              51\n",
      "Städtische Werke AG                      51\n",
      "HanseWerk Charging Station               50\n",
      "EMobility Netzwerk Deutschland GmbH      48\n",
      "Name: count, Length: 100, dtype: int64\n"
     ]
    }
   ],
   "source": [
    "value_counts1 = charging_df['operator'].value_counts()\n",
    "first_values = value_counts1.head(100)  # Adjust the number according to your preference\n",
    "print(first_values)"
   ]
  },
  {
   "cell_type": "code",
   "execution_count": 125,
   "id": "263a7c9c",
   "metadata": {},
   "outputs": [
    {
     "data": {
      "text/plain": [
       "2969"
      ]
     },
     "execution_count": 125,
     "metadata": {},
     "output_type": "execute_result"
    }
   ],
   "source": [
    "#data frame containing all the operators that only have 1 charger\n",
    "single_charing_point=charging_df[charging_df['operator'].map(charging_df['operator'].value_counts()) == 1]\n",
    "single_charing_point['operator'].nunique()"
   ]
  },
  {
   "cell_type": "code",
   "execution_count": 126,
   "id": "3c0e3eb9",
   "metadata": {},
   "outputs": [
    {
     "data": {
      "text/plain": [
       "array(['Normalladeeinrichtung', 'Schnellladeeinrichtung'], dtype=object)"
      ]
     },
     "execution_count": 126,
     "metadata": {},
     "output_type": "execute_result"
    }
   ],
   "source": [
    "charging_df['type_of_charging_equipment'].unique() "
   ]
  },
  {
   "cell_type": "code",
   "execution_count": 127,
   "id": "6f0ad9e7",
   "metadata": {},
   "outputs": [],
   "source": [
    "charging_df['type_of_charging_equipment'] = charging_df['type_of_charging_equipment'].replace({'Normalladeeinrichtung': 'Standard_charger', 'Schnellladeeinrichtung': 'Super_charger'})"
   ]
  },
  {
   "cell_type": "code",
   "execution_count": 128,
   "id": "3a8057f7",
   "metadata": {},
   "outputs": [
    {
     "data": {
      "text/plain": [
       "array(['Standard_charger', 'Super_charger'], dtype=object)"
      ]
     },
     "execution_count": 128,
     "metadata": {},
     "output_type": "execute_result"
    }
   ],
   "source": [
    "charging_df['type_of_charging_equipment'].unique() "
   ]
  },
  {
   "cell_type": "code",
   "execution_count": 129,
   "id": "ecaae1e4",
   "metadata": {},
   "outputs": [
    {
     "data": {
      "text/plain": [
       "array([1, 2, 4, 3])"
      ]
     },
     "execution_count": 129,
     "metadata": {},
     "output_type": "execute_result"
    }
   ],
   "source": [
    "charging_df['number_of_charging_points'].unique() "
   ]
  },
  {
   "cell_type": "code",
   "execution_count": 130,
   "id": "148d3532",
   "metadata": {},
   "outputs": [
    {
     "data": {
      "text/plain": [
       "array([   4.6 ,   75.  ,   44.  ,   22.  ,  150.  ,   98.  ,   93.  ,\n",
       "         11.  ,   39.6 ,  250.  ,  300.  ,   50.  ,  350.  ,   33.  ,\n",
       "        600.  ,   88.  ,   30.  ,   72.  ,  160.  ,  175.  ,  100.  ,\n",
       "         66.  ,   43.  ,   26.4 ,   52.8 ,   39.65,   52.99,   42.  ,\n",
       "          5.83,   35.  ,  400.  ,  360.  ,   34.5 ,  144.  ,   14.7 ,\n",
       "          3.7 ,   13.2 ,  120.  ,   13.75,   16.  ,   77.  ,   60.  ,\n",
       "        215.  ,  320.  ,   25.  ,  240.  ,  110.  ,   26.5 ,   32.  ,\n",
       "         45.  ,   97.  ,    4.2 ,  165.  ,  200.  ,   20.  ,   25.2 ,\n",
       "          5.5 ,  176.  ,   96.  ,  570.  ,  122.  ,   80.  ,   55.  ,\n",
       "         40.  ,  155.  ,    8.  ,   73.  ,   62.5 ,  116.74,    3.6 ,\n",
       "         39.  ,   70.  ,   26.  ,  156.  ,   82.  ,   24.  ,  125.  ,\n",
       "         46.  ,  173.  , 1100.  ,   13.25,   78.  ,  210.  ,   85.  ,\n",
       "         39.4 ,  115.  ,  180.  ,  225.  ,  800.  ,  315.  ,    7.2 ,\n",
       "         51.4 ,   21.  ,  124.  ,    3.  ,   86.  ,   14.  ,  104.  ,\n",
       "        132.  ,   73.2 ,   61.  ,  322.  ,  374.  ,  105.  ,   74.  ,\n",
       "          3.5 ,   71.  ,   86.4 ,   94.  ,  172.  ,  900.  ,   52.  ,\n",
       "          9.  ,  208.  ,  220.  ,    3.8 ,   43.5 ,   12.  ,  245.  ,\n",
       "        140.  ,  452.  ,  159.  ,   90.  ,    2.  ,  184.  ,   34.  ,\n",
       "         22.2 ,  142.  ,  260.  ,   92.  ,   86.5 ,   41.  ,  185.  ,\n",
       "         36.  ,  130.  ,  310.  ,    7.4 ,   25.7 ,    7.  ,    6.  ,\n",
       "        146.  ,  112.  ,   62.  ,   48.7 ,   34.6 ,   28.  ,   76.  ,\n",
       "         38.  ,  340.  ,  102.  ,  290.  ,  149.  ,   43.6 ,    4.7 ,\n",
       "          4.1 ,  154.  ,    6.4 ,   57.  ,   31.5 ,  116.  ,    7.5 ,\n",
       "        270.  ,    5.  ,  161.  ,  264.  ,   17.  ,   99.  ,  194.  ,\n",
       "          7.1 ,   53.  ,   36.8 ,   27.68,  196.  ,  218.  ,  170.  ,\n",
       "         84.  ,   23.  ,   15.  ,   10.  ,   62.2 ,  143.  ,  256.  ,\n",
       "        720.  ,   48.  ,  282.  ,   47.  ,  126.  , 1200.  ,  690.  ,\n",
       "        630.  ,   13.8 ,   11.4 ,   22.1 ,  116.4 ,   68.  ,  386.5 ,\n",
       "          6.6 ,    4.  ,  134.  ,   64.  ,    7.36,   82.5 ,  228.  ,\n",
       "         47.6 ,   43.59,   59.  ,  700.  ,   10.56,   65.  ,    4.14,\n",
       "        135.  ,   63.  ,  199.  ])"
      ]
     },
     "execution_count": 130,
     "metadata": {},
     "output_type": "execute_result"
    }
   ],
   "source": [
    "charging_df['connected_load'].unique() "
   ]
  },
  {
   "cell_type": "code",
   "execution_count": 131,
   "id": "789ecf57",
   "metadata": {},
   "outputs": [
    {
     "data": {
      "text/plain": [
       "dtype('float64')"
      ]
     },
     "execution_count": 131,
     "metadata": {},
     "output_type": "execute_result"
    }
   ],
   "source": [
    "charging_df['connected_load'].dtype"
   ]
  },
  {
   "cell_type": "code",
   "execution_count": 132,
   "id": "51e2f057",
   "metadata": {},
   "outputs": [
    {
     "data": {
      "text/plain": [
       "array(['AC Steckdose Typ 2', 'DC Kupplung Combo', 'AC Kupplung Typ 2',\n",
       "       'AC Steckdose Typ 2, AC Kupplung Typ 2',\n",
       "       'DC Kupplung Combo, DC CHAdeMO', 'AC Steckdose Typ 2, AC Schuko',\n",
       "       'AC Steckdose Typ 2, DC Kupplung Combo, DC CHAdeMO',\n",
       "       'AC Kupplung Typ 2, DC CHAdeMO',\n",
       "       'AC Kupplung Typ 2, DC Kupplung Combo',\n",
       "       'AC Kupplung Typ 2, AC Schuko',\n",
       "       'AC Steckdose Typ 2, AC Kupplung Typ 2, AC CEE 5 polig',\n",
       "       'AC Steckdose Typ 2, DC Kupplung Combo',\n",
       "       'AC Kupplung Typ 2, DC Kupplung Combo, DC CHAdeMO',\n",
       "       'AC Steckdose Typ 2, AC Kupplung Typ 2, AC Schuko',\n",
       "       'AC Steckdose Typ 2, DC Kupplung Combo, AC Schuko',\n",
       "       'AC Schuko, AC CEE 5 polig',\n",
       "       'AC Steckdose Typ 2, AC Kupplung Typ 2, DC Kupplung Combo',\n",
       "       'DC Kupplung Combo, AC CEE 3 polig',\n",
       "       'AC Steckdose Typ 2, AC Schuko, AC CEE 5 polig',\n",
       "       'AC Steckdose Typ 2, DC CHAdeMO',\n",
       "       'AC Steckdose Typ 2, AC Schuko, DC CHAdeMO',\n",
       "       'AC Steckdose Typ 2, AC Kupplung Typ 2, AC Schuko, AC CEE 5 polig',\n",
       "       'AC CEE 5 polig',\n",
       "       'AC Steckdose Typ 2, AC Kupplung Typ 2, DC Kupplung Combo, AC Schuko',\n",
       "       'AC Steckdose Typ 2, AC CEE 3 polig',\n",
       "       'AC Kupplung Typ 2, AC CEE 3 polig',\n",
       "       'DC Kupplung Combo, DC CHAdeMO, DC Kupplung Tesla Typ 2',\n",
       "       'AC Kupplung Typ 2, AC Schuko, AC CEE 5 polig',\n",
       "       'AC Steckdose Typ 2, AC CEE 5 polig',\n",
       "       'AC Steckdose Typ 2, AC Kupplung Typ 2, DC Kupplung Combo, DC CHAdeMO',\n",
       "       'AC Kupplung Typ 2, DC Kupplung Combo, DC CHAdeMO, AC CEE 5 polig',\n",
       "       'AC Kupplung Typ 2, Adapter Typ1 \\xa0Auto auf Typ2 Fahrzeugkupplung',\n",
       "       'AC Schuko', 'DC Kupplung Combo, AC Schuko',\n",
       "       'AC Kupplung Typ 2, AC CEE 5 polig',\n",
       "       'AC Steckdose Typ 2, AC Kupplung Typ 2, AC Schuko, AC CEE 3 polig; AC CEE 5 polig',\n",
       "       'AC Steckdose Typ 2, AC Kupplung Typ 2, DC CHAdeMO',\n",
       "       'DC Kupplung Combo, AC CEE 5 polig', 'AC CEE 3 polig',\n",
       "       'AC Steckdose Typ 2, AC Kupplung Typ 2, AC Schuko, DC CHAdeMO',\n",
       "       'AC Steckdose Typ 2, CEE-Stecker'], dtype=object)"
      ]
     },
     "execution_count": 132,
     "metadata": {},
     "output_type": "execute_result"
    }
   ],
   "source": [
    "charging_df['plug_types_1'].unique() "
   ]
  },
  {
   "cell_type": "code",
   "execution_count": 133,
   "id": "cd902ad2",
   "metadata": {},
   "outputs": [
    {
     "data": {
      "text/plain": [
       "array([nan, 'DC Kupplung Combo', 'AC Steckdose Typ 2',\n",
       "       'DC Kupplung Combo, DC CHAdeMO', 'AC Kupplung Typ 2',\n",
       "       'AC Steckdose Typ 2, AC Schuko',\n",
       "       'AC Steckdose Typ 2, AC Kupplung Typ 2',\n",
       "       'AC Kupplung Typ 2, DC CHAdeMO',\n",
       "       'AC Kupplung Typ 2, DC Kupplung Combo',\n",
       "       'AC Steckdose Typ 2, AC Kupplung Typ 2, AC CEE 5 polig',\n",
       "       'AC Steckdose Typ 2, DC Kupplung Combo',\n",
       "       'AC Kupplung Typ 2, DC Kupplung Combo, DC CHAdeMO', 'DC CHAdeMO',\n",
       "       'AC CEE 5 polig',\n",
       "       'AC Steckdose Typ 2, AC Kupplung Typ 2, DC CHAdeMO', 'AC Schuko',\n",
       "       'AC Schuko, AC CEE 5 polig',\n",
       "       'AC Steckdose Typ 2, AC Kupplung Typ 2, DC Kupplung Combo',\n",
       "       'AC Steckdose Typ 2, DC Kupplung Combo, AC Schuko',\n",
       "       'DC Kupplung Combo, AC CEE 5 polig',\n",
       "       'AC Steckdose Typ 2, DC CHAdeMO', 'AC Kupplung Typ 2, AC Schuko',\n",
       "       'AC Steckdose Typ 2, AC CEE 3 polig',\n",
       "       'AC Steckdose Typ 2, AC CEE 5 polig',\n",
       "       'AC Steckdose Typ 2, AC Kupplung Typ 2, AC Schuko',\n",
       "       'AC Kupplung Typ 2, AC CEE 3 polig',\n",
       "       'AC Steckdose Typ 2, DC Kupplung Combo, DC CHAdeMO',\n",
       "       'AC Kupplung Typ 2, AC CEE 5 polig', 'AC CEE 3 polig',\n",
       "       'AC Steckdose Typ 2, AC Kupplung Typ 2, AC Schuko, AC CEE 3 polig; AC CEE 5 polig',\n",
       "       'AC Steckdose Typ 2, AC Kupplung Typ 2, AC / CEE'], dtype=object)"
      ]
     },
     "execution_count": 133,
     "metadata": {},
     "output_type": "execute_result"
    }
   ],
   "source": [
    "charging_df['plug_types_2'].unique() "
   ]
  },
  {
   "cell_type": "code",
   "execution_count": 134,
   "id": "08a1bd66",
   "metadata": {},
   "outputs": [
    {
     "data": {
      "text/plain": [
       "array([nan, 'AC Steckdose Typ 2', 'AC Steckdose Typ 2, AC Kupplung Typ 2',\n",
       "       'AC Steckdose Typ 2, AC Schuko', 'AC Kupplung Typ 2, DC CHAdeMO',\n",
       "       'AC Kupplung Typ 2', 'DC Kupplung Combo', 'AC Schuko',\n",
       "       'DC Kupplung Combo, DC CHAdeMO',\n",
       "       'AC Kupplung Typ 2, DC Kupplung Combo',\n",
       "       'AC Steckdose Typ 2, AC Kupplung Typ 2, DC CHAdeMO', 'DC CHAdeMO',\n",
       "       'AC Steckdose Typ 2, DC Kupplung Combo',\n",
       "       'AC Steckdose Typ 2, AC CEE 5 polig',\n",
       "       'AC Kupplung Typ 2, AC Schuko',\n",
       "       'AC Kupplung Typ 2, AC CEE 5 polig',\n",
       "       'AC Steckdose Typ 2, AC CEE 3 polig',\n",
       "       'AC Steckdose Typ 2, AC Kupplung Typ 2, AC Schuko',\n",
       "       'AC Steckdose Typ 2, AC Kupplung Typ 2, DC Kupplung Combo, DC CHAdeMO',\n",
       "       'AC Steckdose Typ 2, DC CHAdeMO'], dtype=object)"
      ]
     },
     "execution_count": 134,
     "metadata": {},
     "output_type": "execute_result"
    }
   ],
   "source": [
    "charging_df['plug_types_3'].unique() "
   ]
  },
  {
   "cell_type": "code",
   "execution_count": 135,
   "id": "7e7f3042",
   "metadata": {},
   "outputs": [
    {
     "data": {
      "text/plain": [
       "array([nan, 'AC Steckdose Typ 2', 'DC Kupplung Combo',\n",
       "       'AC Steckdose Typ 2, AC Schuko', 'AC Kupplung Typ 2',\n",
       "       'AC Steckdose Typ 2, AC Kupplung Typ 2', 'AC Schuko',\n",
       "       'AC Steckdose Typ 2, AC Kupplung Typ 2, AC Schuko, AC CEE 3 polig',\n",
       "       'DC Kupplung Combo, DC CHAdeMO',\n",
       "       'DC Kupplung Combo, DC CHAdeMO, Tesla',\n",
       "       'AC Steckdose Typ 2, AC CEE 5 polig',\n",
       "       'DC Kupplung Combo, Typ 2 / Tesla',\n",
       "       'AC Kupplung Typ 2, AC CEE 5 polig', 'DC Kupplung Combo, Tesla',\n",
       "       'AC Steckdose Typ 2, DC Kupplung Combo'], dtype=object)"
      ]
     },
     "execution_count": 135,
     "metadata": {},
     "output_type": "execute_result"
    }
   ],
   "source": [
    "charging_df['plug_types_4'].unique() "
   ]
  },
  {
   "cell_type": "code",
   "execution_count": 136,
   "id": "c9c8bc2e",
   "metadata": {},
   "outputs": [
    {
     "data": {
      "text/plain": [
       "plug_types_4\n",
       "AC Steckdose Typ 2                                                  847\n",
       "AC Kupplung Typ 2                                                   125\n",
       "DC Kupplung Combo                                                    47\n",
       "AC Schuko                                                            46\n",
       "AC Steckdose Typ 2, AC Kupplung Typ 2                                30\n",
       "AC Steckdose Typ 2, AC Schuko                                        22\n",
       "DC Kupplung Combo, DC CHAdeMO                                         7\n",
       "AC Steckdose Typ 2, DC Kupplung Combo                                 2\n",
       "AC Steckdose Typ 2, AC Kupplung Typ 2, AC Schuko, AC CEE 3 polig      1\n",
       "DC Kupplung Combo, DC CHAdeMO, Tesla                                  1\n",
       "AC Steckdose Typ 2, AC CEE 5 polig                                    1\n",
       "DC Kupplung Combo, Typ 2 / Tesla                                      1\n",
       "AC Kupplung Typ 2, AC CEE 5 polig                                     1\n",
       "DC Kupplung Combo, Tesla                                              1\n",
       "Name: count, dtype: int64"
      ]
     },
     "execution_count": 136,
     "metadata": {},
     "output_type": "execute_result"
    }
   ],
   "source": [
    "#there seems to be some chargers which have up to 4 plug types \n",
    "charging_df['plug_types_4'].value_counts() "
   ]
  },
  {
   "cell_type": "code",
   "execution_count": 137,
   "id": "6853e6ee",
   "metadata": {},
   "outputs": [
    {
     "data": {
      "text/plain": [
       "array([  4.6 ,  22.  , 150.  ,  43.  ,  11.  ,  50.  , 300.  , 350.  ,\n",
       "       225.  , 175.  , 100.  ,   5.83,  17.  ,   3.7 ,  90.  ,  60.  ,\n",
       "        13.75, 160.  ,  42.  ,  16.  ,  25.  , 120.  ,  75.  ,  39.  ,\n",
       "         4.2 ,  80.  , 250.  ,   2.  ,  20.  , 200.  ,   5.5 , 320.  ,\n",
       "       280.  , 180.  ,  40.  , 360.  ,   8.  ,  15.  ,  62.5 ,   3.6 ,\n",
       "       125.  ,  24.  ,  78.  ,  65.  ,  45.  ,   7.2 ,  21.  , 156.  ,\n",
       "       124.  ,   3.  ,  86.  ,   4.  ,   7.  ,  44.  ,   3.5 , 140.  ,\n",
       "        30.  ,   9.  ,  98.  ,   3.8 ,  22.1 ,  70.  ,  35.  , 240.  ,\n",
       "       184.  ,  22.2 , 134.  ,  53.  , 130.  , 110.  ,   7.4 ,   7.3 ,\n",
       "       146.  ,  10.  ,   4.7 ,  19.  , 290.  ,   8.3 ,   6.4 ,   7.5 ,\n",
       "         2.3 ,   5.  ,  16.5 ,   6.  ,  72.  ,  99.  ,   7.1 ,   1.  ,\n",
       "       218.  ,  55.  , 185.  ,  49.  ,  21.75,  18.  , 256.  ,  48.  ,\n",
       "       145.  ,  33.  ,  21.9 ,  12.  , 230.  ,  93.  ,  13.8 , 144.  ,\n",
       "        11.4 ,  14.  ,   6.6 ,   7.36, 270.  , 149.  ,  62.  , 135.  ,\n",
       "       155.  ,  10.56,  17.25,   4.14])"
      ]
     },
     "execution_count": 137,
     "metadata": {},
     "output_type": "execute_result"
    }
   ],
   "source": [
    "charging_df['p1_kw'].unique() "
   ]
  },
  {
   "cell_type": "code",
   "execution_count": 138,
   "id": "b2318adf",
   "metadata": {},
   "outputs": [
    {
     "data": {
      "text/plain": [
       "dtype('float64')"
      ]
     },
     "execution_count": 138,
     "metadata": {},
     "output_type": "execute_result"
    }
   ],
   "source": [
    "charging_df['p1_kw'].dtype"
   ]
  },
  {
   "cell_type": "code",
   "execution_count": 139,
   "id": "19919419",
   "metadata": {},
   "outputs": [
    {
     "data": {
      "text/plain": [
       "array([   nan,  50.  ,  22.  , 150.  ,  11.  ,  42.  , 300.  , 225.  ,\n",
       "        30.  ,  43.  ,  20.  , 350.  ,  17.  ,   3.7 ,  90.  ,  60.  ,\n",
       "        13.75, 160.  , 100.  ,  25.  , 120.  ,  75.  ,  39.  , 320.  ,\n",
       "       250.  , 200.  ,   5.5 , 280.  , 180.  ,  40.  , 360.  ,   8.  ,\n",
       "        15.  ,   2.3 ,  24.  ,  32.  , 125.  ,  78.  ,  44.  ,  62.5 ,\n",
       "       175.  , 156.  , 124.  ,  86.  ,   4.  ,   7.  ,   7.2 , 140.  ,\n",
       "       240.  ,  70.  ,  16.  ,   4.6 ,  22.2 ,  22.1 , 134.  , 130.  ,\n",
       "       110.  ,   3.  , 146.  ,  10.  ,  62.  ,  80.  ,  59.  ,  19.  ,\n",
       "        21.  , 290.  ,  45.  ,  35.  ,   3.5 ,   5.  ,   7.5 ,  16.5 ,\n",
       "        99.  ,   7.4 ,  55.  , 218.  ,  38.  ,  76.5 , 185.  ,   3.6 ,\n",
       "        47.  ,  21.75,  18.  , 256.  , 145.  ,  36.  ,  23.  ,  33.  ,\n",
       "        12.  , 230.  ,  49.  ,  93.  ,  11.4 ,   2.5 ,  14.  ,   2.  ,\n",
       "         7.36, 270.  , 149.  , 155.  ,  17.25,   4.14, 135.  ])"
      ]
     },
     "execution_count": 139,
     "metadata": {},
     "output_type": "execute_result"
    }
   ],
   "source": [
    "charging_df['p2_kw'].unique() "
   ]
  },
  {
   "cell_type": "code",
   "execution_count": 140,
   "id": "d0ca05ed",
   "metadata": {},
   "outputs": [
    {
     "data": {
      "text/plain": [
       "array([   nan,  11.  ,  22.  ,  44.  ,   7.5 ,  50.  ,   3.7 , 300.  ,\n",
       "        60.  ,  43.  , 150.  ,   3.  , 225.  ,   3.6 ,  75.  , 175.  ,\n",
       "       100.  ,   7.2 ,   2.  ,  30.  ,  25.  , 360.  ,  22.1 , 112.5 ,\n",
       "       120.  , 350.  , 320.  , 160.  ,  20.  ,   5.  ,   2.3 , 180.  ,\n",
       "         7.  ,  76.5 ,  10.  ,  18.  ,  36.  ,  23.  , 200.  ,  93.  ,\n",
       "         3.5 ,  26.6 ,   7.36,  16.  ,  45.  ])"
      ]
     },
     "execution_count": 140,
     "metadata": {},
     "output_type": "execute_result"
    }
   ],
   "source": [
    "charging_df['p3_kw'].unique() "
   ]
  },
  {
   "cell_type": "code",
   "execution_count": 141,
   "id": "28267c22",
   "metadata": {},
   "outputs": [
    {
     "data": {
      "text/plain": [
       "array([  nan,  11. ,  22. , 100. ,  50. ,   3.7, 300. ,   3. , 150. ,\n",
       "       225. ,  75. , 175. ,   3.6, 360. ,  43. ,  22.1,  37.5,  30. ,\n",
       "       350. , 320. ,   2.3,   7. ,   7.5,  44. ,  18. ,   7.2, 180. ,\n",
       "         7.4,   3.5,  16. ,  20. ])"
      ]
     },
     "execution_count": 141,
     "metadata": {},
     "output_type": "execute_result"
    }
   ],
   "source": [
    "charging_df['p4_kw'].unique() "
   ]
  },
  {
   "cell_type": "code",
   "execution_count": 142,
   "id": "34593554",
   "metadata": {},
   "outputs": [
    {
     "data": {
      "text/plain": [
       "array(['Landkreis Bergstraße', 'Landkreis Darmstadt-Dieburg',\n",
       "       'Landkreis Fulda', 'Landkreis Gießen', 'Landkreis Groß-Gerau',\n",
       "       'Landkreis Hersfeld-Rotenburg', 'Landkreis Hochtaunuskreis',\n",
       "       'Landkreis Kassel', 'Landkreis Lahn-Dill-Kreis',\n",
       "       'Landkreis Limburg-Weilburg', 'Landkreis Main-Kinzig-Kreis',\n",
       "       'Landkreis Main-Taunus-Kreis', 'Landkreis Marburg-Biedenkopf',\n",
       "       'Landkreis Odenwaldkreis', 'Landkreis Offenbach',\n",
       "       'Landkreis Rheingau-Taunus-Kreis', 'Landkreis Schwalm-Eder-Kreis',\n",
       "       'Landkreis Vogelsbergkreis', 'Landkreis Waldeck-Frankenberg',\n",
       "       'Landkreis Werra-Meißner-Kreis', 'Landkreis Wetteraukreis',\n",
       "       'Kreisfreie Stadt Rostock', 'Kreisfreie Stadt Schwerin',\n",
       "       'Landkreis Ludwigslust-Parchim',\n",
       "       'Landkreis Mecklenburgische Seenplatte',\n",
       "       'Landkreis Nordwestmecklenburg', 'Landkreis Rostock',\n",
       "       'Landkreis Vorpommern-Greifswald', 'Landkreis Vorpommern-Rügen',\n",
       "       'Kreisfreie Stadt Braunschweig', 'Kreisfreie Stadt Delmenhorst',\n",
       "       'Kreisfreie Stadt Emden', 'Kreisfreie Stadt Oldenburg (Oldb)',\n",
       "       'Kreisfreie Stadt Osnabrück', 'Kreisfreie Stadt Salzgitter',\n",
       "       'Kreisfreie Stadt Wilhelmshaven', 'Kreisfreie Stadt Wolfsburg',\n",
       "       'Landkreis Ammerland', 'Landkreis Aurich', 'Landkreis Celle',\n",
       "       'Landkreis Cloppenburg', 'Landkreis Cuxhaven',\n",
       "       'Landkreis Diepholz', 'Landkreis Emsland', 'Landkreis Friesland',\n",
       "       'Landkreis Gifhorn', 'Landkreis Goslar', 'Landkreis Göttingen',\n",
       "       'Landkreis Grafschaft Bentheim', 'Landkreis Hameln-Pyrmont',\n",
       "       'Landkreis Harburg', 'Landkreis Heidekreis', 'Landkreis Helmstedt',\n",
       "       'Landkreis Hildesheim', 'Landkreis Holzminden', 'Landkreis Leer',\n",
       "       'Landkreis Lüchow-Dannenberg', 'Landkreis Lüneburg',\n",
       "       'Landkreis Nienburg (Weser)', 'Landkreis Northeim',\n",
       "       'Landkreis Oldenburg', 'Landkreis Osnabrück',\n",
       "       'Landkreis Osterholz', 'Landkreis Peine',\n",
       "       'Landkreis Region Hannover', 'Landkreis Rotenburg (Wümme)',\n",
       "       'Landkreis Schaumburg', 'Landkreis Stade', 'Landkreis Uelzen',\n",
       "       'Landkreis Vechta', 'Landkreis Verden', 'Landkreis Ravensburg',\n",
       "       'Landkreis Rems-Murr-Kreis', 'Landkreis Reutlingen',\n",
       "       'Landkreis Rhein-Neckar-Kreis', 'Landkreis Rottweil',\n",
       "       'Landkreis Schwäbisch Hall', 'Landkreis Schwarzwald-Baar-Kreis',\n",
       "       'Landkreis Sigmaringen', 'Landkreis Tübingen',\n",
       "       'Landkreis Tuttlingen', 'Landkreis Waldshut',\n",
       "       'Landkreis Zollernalbkreis', 'Stadtkreis Baden-Baden',\n",
       "       'Stadtkreis Freiburg im Breisgau', 'Stadtkreis Heidelberg',\n",
       "       'Stadtkreis Heilbronn', 'Stadtkreis Karlsruhe',\n",
       "       'Stadtkreis Mannheim', 'Stadtkreis Pforzheim',\n",
       "       'Stadtkreis Stuttgart', 'Stadtkreis Ulm',\n",
       "       'Kreisfreie Stadt Amberg', 'Kreisfreie Stadt Ansbach',\n",
       "       'Kreisfreie Stadt Aschaffenburg', 'Kreisfreie Stadt Augsburg',\n",
       "       'Kreisfreie Stadt Bamberg', 'Kreisfreie Stadt Bayreuth',\n",
       "       'Kreisfreie Stadt Coburg', 'Kreisfreie Stadt Erlangen',\n",
       "       'Kreisfreie Stadt Fürth', 'Kreisfreie Stadt Hof',\n",
       "       'Kreisfreie Stadt Ingolstadt', 'Kreisfreie Stadt Kaufbeuren',\n",
       "       'Kreisfreie Stadt Kempten (Allgäu)', 'Kreisfreie Stadt Landshut',\n",
       "       'Kreisfreie Stadt Memmingen', 'Kreisfreie Stadt München',\n",
       "       'Kreis Borken', 'Kreis Coesfeld', 'Kreis Düren',\n",
       "       'Kreis Ennepe-Ruhr-Kreis', 'Kreis Euskirchen', 'Kreis Gütersloh',\n",
       "       'Kreis Heinsberg', 'Kreis Herford', 'Kreis Hochsauerlandkreis',\n",
       "       'Kreis Höxter', 'Kreis Kleve', 'Kreis Lippe',\n",
       "       'Kreis Märkischer Kreis', 'Landkreis Alb-Donau-Kreis',\n",
       "       'Landkreis Biberach', 'Landkreis Böblingen',\n",
       "       'Landkreis Bodenseekreis', 'Landkreis Breisgau-Hochschwarzwald',\n",
       "       'Landkreis Calw', 'Landkreis Emmendingen', 'Landkreis Enzkreis',\n",
       "       'Landkreis Esslingen', 'Landkreis Freudenstadt',\n",
       "       'Landkreis Göppingen', 'Landkreis Heidenheim',\n",
       "       'Landkreis Heilbronn', 'Landkreis Hohenlohekreis',\n",
       "       'Landkreis Karlsruhe', 'Landkreis Konstanz', 'Landkreis Lörrach',\n",
       "       'Landkreis Ludwigsburg', 'Landkreis Main-Tauber-Kreis',\n",
       "       'Landkreis Neckar-Odenwald-Kreis', 'Landkreis Ortenaukreis',\n",
       "       'Landkreis Ostalbkreis', 'Landkreis Rastatt',\n",
       "       'Kreisfreie Stadt Hamburg', 'Kreisfreie Stadt Darmstadt',\n",
       "       'Kreisfreie Stadt Frankfurt am Main', 'Kreisfreie Stadt Kassel',\n",
       "       'Kreisfreie Stadt Offenbach am Main', 'Kreisfreie Stadt Wiesbaden',\n",
       "       'Landkreis Wesermarsch', 'Landkreis Wittmund',\n",
       "       'Landkreis Wolfenbüttel', 'Kreisfreie Stadt Hagen',\n",
       "       'Kreisfreie Stadt Hamm', 'Kreisfreie Stadt Herne',\n",
       "       'Kreisfreie Stadt Köln', 'Kreisfreie Stadt Krefeld',\n",
       "       'Kreisfreie Stadt Leverkusen', 'Kreisfreie Stadt Mönchengladbach',\n",
       "       'Kreisfreie Stadt Mülheim an der Ruhr', 'Kreisfreie Stadt Münster',\n",
       "       'Kreisfreie Stadt Oberhausen', 'Kreisfreie Stadt Remscheid',\n",
       "       'Kreisfreie Stadt Solingen', 'Kreisfreie Stadt Wuppertal',\n",
       "       'Kreisfreie Stadt Frankenthal (Pfalz)',\n",
       "       'Kreisfreie Stadt Kaiserslautern', 'Kreisfreie Stadt Koblenz',\n",
       "       'Kreisfreie Stadt Landau in der Pfalz',\n",
       "       'Kreisfreie Stadt Ludwigshafen am Rhein', 'Kreisfreie Stadt Mainz',\n",
       "       'Kreisfreie Stadt Neustadt an der Weinstraße',\n",
       "       'Kreisfreie Stadt Pirmasens', 'Kreisfreie Stadt Speyer',\n",
       "       'Kreisfreie Stadt Trier', 'Kreisfreie Stadt Worms',\n",
       "       'Kreisfreie Stadt Zweibrücken', 'Landkreis Ahrweiler',\n",
       "       'Landkreis Altenkirchen (Westerwald)', 'Landkreis Alzey-Worms',\n",
       "       'Landkreis Bad Dürkheim', 'Landkreis Bad Kreuznach',\n",
       "       'Landkreis Bernkastel-Wittlich', 'Landkreis Birkenfeld',\n",
       "       'Landkreis Cochem-Zell', 'Landkreis Donnersbergkreis',\n",
       "       'Landkreis Eifelkreis Bitburg-Prüm', 'Landkreis Germersheim',\n",
       "       'Landkreis Kaiserslautern', 'Landkreis Kusel',\n",
       "       'Landkreis Mainz-Bingen', 'Landkreis Mayen-Koblenz',\n",
       "       'Landkreis Neuwied', 'Landkreis Rhein-Hunsrück-Kreis',\n",
       "       'Landkreis Rhein-Lahn-Kreis', 'Landkreis Rhein-Pfalz-Kreis',\n",
       "       'Landkreis Südliche Weinstraße', 'Landkreis Südwestpfalz',\n",
       "       'Landkreis Trier-Saarburg', 'Landkreis Vulkaneifel',\n",
       "       'Landkreis Westerwaldkreis', 'Landkreis Merzig-Wadern',\n",
       "       'Landkreis Neunkirchen', 'Landkreis Regionalverband Saarbrücken',\n",
       "       'Landkreis Saarlouis', 'Landkreis Saarpfalz-Kreis',\n",
       "       'Landkreis St. Wendel', 'Kreisfreie Stadt Chemnitz',\n",
       "       'Kreisfreie Stadt Dresden', 'Kreisfreie Stadt Leipzig',\n",
       "       'Kreisfreie Stadt Nürnberg', 'Kreisfreie Stadt Passau',\n",
       "       'Kreisfreie Stadt Regensburg', 'Kreisfreie Stadt Rosenheim',\n",
       "       'Kreisfreie Stadt Schwabach', 'Kreisfreie Stadt Schweinfurt',\n",
       "       'Kreisfreie Stadt Straubing', 'Kreisfreie Stadt Weiden i.d. OPf.',\n",
       "       'Kreisfreie Stadt Würzburg', 'Landkreis Aichach-Friedberg',\n",
       "       'Landkreis Altötting', 'Landkreis Amberg-Sulzbach',\n",
       "       'Landkreis Ansbach', 'Landkreis Aschaffenburg',\n",
       "       'Landkreis Augsburg', 'Landkreis Bad Kissingen',\n",
       "       'Landkreis Bad Tölz-Wolfratshausen', 'Landkreis Bamberg',\n",
       "       'Landkreis Bayreuth', 'Landkreis Berchtesgadener Land',\n",
       "       'Landkreis Cham', 'Landkreis Coburg', 'Landkreis Dachau',\n",
       "       'Landkreis Deggendorf', 'Landkreis Dillingen a.d. Donau',\n",
       "       'Landkreis Dingolfing-Landau', 'Landkreis Donau-Ries',\n",
       "       'Landkreis Ebersberg', 'Landkreis Eichstätt', 'Landkreis Erding',\n",
       "       'Landkreis Erlangen-Höchstadt', 'Landkreis Forchheim',\n",
       "       'Landkreis Freising', 'Landkreis Freyung-Grafenau',\n",
       "       'Landkreis Fürstenfeldbruck', 'Landkreis Fürth',\n",
       "       'Landkreis Garmisch-Partenkirchen', 'Landkreis Günzburg',\n",
       "       'Landkreis Haßberge', 'Landkreis Hof', 'Landkreis Kelheim',\n",
       "       'Landkreis Kitzingen', 'Landkreis Kronach', 'Landkreis Kulmbach',\n",
       "       'Landkreis Landsberg am Lech', 'Landkreis Landshut',\n",
       "       'Landkreis Lichtenfels', 'Landkreis Lindau (Bodensee)',\n",
       "       'Landkreis Main-Spessart', 'Landkreis Miesbach',\n",
       "       'Landkreis Miltenberg', 'Landkreis Mühldorf a. Inn',\n",
       "       'Landkreis München', 'Landkreis Neuburg-Schrobenhausen',\n",
       "       'Landkreis Neumarkt i.d. OPf.',\n",
       "       'Landkreis Neustadt a.d. Aisch-Bad Windsheim',\n",
       "       'Landkreis Neustadt a.d. Waldnaab', 'Landkreis Neu-Ulm',\n",
       "       'Landkreis Nürnberger Land', 'Landkreis Oberallgäu',\n",
       "       'Landkreis Ostallgäu', 'Landkreis Passau',\n",
       "       'Landkreis Pfaffenhofen a.d. Ilm', 'Landkreis Regen',\n",
       "       'Landkreis Regensburg', 'Landkreis Rhön-Grabfeld',\n",
       "       'Landkreis Rosenheim', 'Landkreis Roth', 'Landkreis Rottal-Inn',\n",
       "       'Landkreis Schwandorf', 'Landkreis Schweinfurt',\n",
       "       'Landkreis Starnberg', 'Landkreis Straubing-Bogen',\n",
       "       'Landkreis Tirschenreuth', 'Landkreis Traunstein',\n",
       "       'Landkreis Unterallgäu', 'Landkreis Weilheim-Schongau',\n",
       "       'Landkreis Weißenburg-Gunzenhausen',\n",
       "       'Landkreis Wunsiedel i. Fichtelgebirge', 'Landkreis Würzburg',\n",
       "       'Kreisfreie Stadt Berlin',\n",
       "       'Kreisfreie Stadt Brandenburg an der Havel',\n",
       "       'Kreisfreie Stadt Cottbus', 'Kreisfreie Stadt Frankfurt (Oder)',\n",
       "       'Kreisfreie Stadt Potsdam', 'Landkreis Barnim',\n",
       "       'Landkreis Dahme-Spreewald', 'Landkreis Elbe-Elster',\n",
       "       'Landkreis Havelland', 'Landkreis Märkisch-Oderland',\n",
       "       'Landkreis Oberhavel', 'Landkreis Oberspreewald-Lausitz',\n",
       "       'Landkreis Oder-Spree', 'Landkreis Ostprignitz-Ruppin',\n",
       "       'Landkreis Potsdam-Mittelmark', 'Landkreis Prignitz',\n",
       "       'Landkreis Spree-Neiße', 'Landkreis Teltow-Fläming',\n",
       "       'Landkreis Uckermark', 'Kreisfreie Stadt Bremen',\n",
       "       'Kreisfreie Stadt Bremerhaven', 'Kreis Minden-Lübbecke',\n",
       "       'Kreis Oberbergischer Kreis', 'Kreis Olpe', 'Kreis Paderborn',\n",
       "       'Kreis Recklinghausen', 'Kreis Rhein-Erft-Kreis',\n",
       "       'Kreis Rheinisch-Bergischer Kreis', 'Kreis Rhein-Kreis Neuss',\n",
       "       'Kreis Rhein-Sieg-Kreis', 'Kreis Siegen-Wittgenstein',\n",
       "       'Kreis Soest', 'Kreis Städteregion Aachen', 'Kreis Steinfurt',\n",
       "       'Kreis Unna', 'Kreis Viersen', 'Kreis Warendorf', 'Kreis Wesel',\n",
       "       'Kreis Mettmann', 'Kreisfreie Stadt Düsseldorf',\n",
       "       'Kreisfreie Stadt Essen', 'Kreisfreie Stadt Gelsenkirchen',\n",
       "       'Kreisfreie Stadt Dessau-Roßlau', 'Kreisfreie Stadt Halle (Saale)',\n",
       "       'Kreisfreie Stadt Magdeburg', 'Landkreis Altmarkkreis Salzwedel',\n",
       "       'Landkreis Anhalt-Bitterfeld', 'Landkreis Börde',\n",
       "       'Landkreis Burgenlandkreis', 'Landkreis Harz',\n",
       "       'Landkreis Jerichower Land', 'Landkreis Mansfeld-Südharz',\n",
       "       'Landkreis Saalekreis', 'Landkreis Salzlandkreis',\n",
       "       'Landkreis Stendal', 'Landkreis Wittenberg', 'Kreis Dithmarschen',\n",
       "       'Kreis Herzogtum Lauenburg', 'Kreis Nordfriesland',\n",
       "       'Kreis Ostholstein', 'Kreis Pinneberg', 'Kreis Plön',\n",
       "       'Kreis Rendsburg-Eckernförde', 'Kreis Schleswig-Flensburg',\n",
       "       'Kreis Segeberg', 'Kreis Steinburg', 'Kreis Stormarn',\n",
       "       'Kreisfreie Stadt Flensburg', 'Kreisfreie Stadt Kiel',\n",
       "       'Kreisfreie Stadt Lübeck', 'Kreisfreie Stadt Neumünster',\n",
       "       'Kreisfreie Stadt Erfurt', 'Kreisfreie Stadt Gera',\n",
       "       'Kreisfreie Stadt Jena', 'Kreisfreie Stadt Suhl',\n",
       "       'Kreisfreie Stadt Weimar', 'Landkreis Altenburger Land',\n",
       "       'Landkreis Eichsfeld', 'Landkreis Gotha', 'Landkreis Greiz',\n",
       "       'Landkreis Hildburghausen', 'Landkreis Ilm-Kreis',\n",
       "       'Landkreis Kyffhäuserkreis', 'Landkreis Nordhausen',\n",
       "       'Landkreis Saale-Holzland-Kreis', 'Landkreis Saale-Orla-Kreis',\n",
       "       'Landkreis Saalfeld-Rudolstadt',\n",
       "       'Landkreis Schmalkalden-Meiningen', 'Landkreis Sömmerda',\n",
       "       'Landkreis Sonneberg', 'Landkreis Unstrut-Hainich-Kreis',\n",
       "       'Landkreis Wartburgkreis', 'Landkreis Weimarer Land',\n",
       "       'Kreisfreie Stadt Bielefeld', 'Kreisfreie Stadt Bochum',\n",
       "       'Kreisfreie Stadt Bonn', 'Kreisfreie Stadt Bottrop',\n",
       "       'Kreisfreie Stadt Dortmund', 'Kreisfreie Stadt Duisburg',\n",
       "       'Landkreis Bautzen', 'Landkreis Erzgebirgskreis',\n",
       "       'Landkreis Görlitz', 'Landkreis Leipzig', 'Landkreis Meißen',\n",
       "       'Landkreis Mittelsachsen', 'Landkreis Nordsachsen',\n",
       "       'Landkreis Sächsische Schweiz-Osterzgebirge',\n",
       "       'Landkreis Vogtlandkreis', 'Landkreis Zwickau'], dtype=object)"
      ]
     },
     "execution_count": 142,
     "metadata": {},
     "output_type": "execute_result"
    }
   ],
   "source": [
    "charging_df['district_city'].unique() "
   ]
  },
  {
   "cell_type": "code",
   "execution_count": 143,
   "id": "8ba4dc90",
   "metadata": {},
   "outputs": [
    {
     "data": {
      "text/plain": [
       "district_city\n",
       "Kreisfreie Stadt München              1410\n",
       "Kreisfreie Stadt Berlin               1266\n",
       "Kreisfreie Stadt Hamburg               943\n",
       "Stadtkreis Stuttgart                   698\n",
       "Landkreis Region Hannover              693\n",
       "                                      ... \n",
       "Landkreis Birkenfeld                    13\n",
       "Kreisfreie Stadt Pirmasens              13\n",
       "Kreisfreie Stadt Amberg                 12\n",
       "Kreisfreie Stadt Offenbach am Main       9\n",
       "Kreisfreie Stadt Schwabach               9\n",
       "Name: count, Length: 400, dtype: int64"
      ]
     },
     "execution_count": 143,
     "metadata": {},
     "output_type": "execute_result"
    }
   ],
   "source": [
    "charging_df['district_city'].value_counts()"
   ]
  },
  {
   "cell_type": "markdown",
   "id": "1a9cf580",
   "metadata": {},
   "source": [
    "'city', 'zip_code', 'street', 'house_number', 'secondary_address', 'date_of_commissioning', 'latitude', 'longitude'"
   ]
  },
  {
   "cell_type": "code",
   "execution_count": 144,
   "id": "818d969f",
   "metadata": {},
   "outputs": [
    {
     "data": {
      "text/plain": [
       "array(['Lorsch', 'Fürth', 'Zwingenberg', ..., 'Chemnitz-Röhrsdorf',\n",
       "       'Dresden-Prohlis', 'Leipzig - Alt-West'], dtype=object)"
      ]
     },
     "execution_count": 144,
     "metadata": {},
     "output_type": "execute_result"
    }
   ],
   "source": [
    "charging_df['city'].unique() "
   ]
  },
  {
   "cell_type": "code",
   "execution_count": 145,
   "id": "d7580494",
   "metadata": {},
   "outputs": [
    {
     "name": "stdout",
     "output_type": "stream",
     "text": [
      "city\n",
      "München                1403\n",
      "Berlin                 1250\n",
      "Hamburg                 938\n",
      "Stuttgart               696\n",
      "Hannover                474\n",
      "Dortmund                451\n",
      "Rüsselsheim am Main     411\n",
      "Düsseldorf              401\n",
      "Sindelfingen            329\n",
      "Regensburg              310\n",
      "Name: count, dtype: int64\n"
     ]
    }
   ],
   "source": [
    "value_counts2 = charging_df['city'].value_counts()\n",
    "first_values1 = value_counts2.head(10)  # Adjust the number according to your preference\n",
    "print(first_values1)"
   ]
  },
  {
   "cell_type": "code",
   "execution_count": 146,
   "id": "e4e7b781",
   "metadata": {},
   "outputs": [
    {
     "data": {
      "text/plain": [
       "city\n",
       "München                                   1403\n",
       "Berlin                                    1250\n",
       "Hamburg                                    938\n",
       "Stuttgart                                  696\n",
       "Hannover                                   474\n",
       "                                          ... \n",
       "Oberelchingen                                1\n",
       "Unterelchingen                               1\n",
       "Buch                                         1\n",
       "Röthenbach an der Pegnitz (Haimendorf)       1\n",
       "Leipzig - Alt-West                           1\n",
       "Name: count, Length: 5960, dtype: int64"
      ]
     },
     "execution_count": 146,
     "metadata": {},
     "output_type": "execute_result"
    }
   ],
   "source": [
    "value_counts2 "
   ]
  },
  {
   "cell_type": "code",
   "execution_count": 147,
   "id": "b3cf4669",
   "metadata": {},
   "outputs": [
    {
     "name": "stderr",
     "output_type": "stream",
     "text": [
      "/var/folders/pf/nfj1603d1fjc2xkhkrlls95m0000gn/T/ipykernel_16751/4214540322.py:1: DtypeWarning: Columns (2,3,8,12,28,35) have mixed types. Specify dtype option on import or set low_memory=False.\n",
      "  cars_df = pd.read_csv('car_data.csv')\n"
     ]
    },
    {
     "data": {
      "text/html": [
       "<div>\n",
       "<style scoped>\n",
       "    .dataframe tbody tr th:only-of-type {\n",
       "        vertical-align: middle;\n",
       "    }\n",
       "\n",
       "    .dataframe tbody tr th {\n",
       "        vertical-align: top;\n",
       "    }\n",
       "\n",
       "    .dataframe thead th {\n",
       "        text-align: right;\n",
       "    }\n",
       "</style>\n",
       "<table border=\"1\" class=\"dataframe\">\n",
       "  <thead>\n",
       "    <tr style=\"text-align: right;\">\n",
       "      <th></th>\n",
       "      <th>ID</th>\n",
       "      <th>Country</th>\n",
       "      <th>VFN</th>\n",
       "      <th>Mp</th>\n",
       "      <th>Mh</th>\n",
       "      <th>Man</th>\n",
       "      <th>MMS</th>\n",
       "      <th>Tan</th>\n",
       "      <th>T</th>\n",
       "      <th>Va</th>\n",
       "      <th>...</th>\n",
       "      <th>IT</th>\n",
       "      <th>Ernedc (g/km)</th>\n",
       "      <th>Erwltp (g/km)</th>\n",
       "      <th>De</th>\n",
       "      <th>Vf</th>\n",
       "      <th>Status</th>\n",
       "      <th>year</th>\n",
       "      <th>Date of registration</th>\n",
       "      <th>Fuel consumption</th>\n",
       "      <th>Electric range (km)</th>\n",
       "    </tr>\n",
       "  </thead>\n",
       "  <tbody>\n",
       "    <tr>\n",
       "      <th>0</th>\n",
       "      <td>77798939</td>\n",
       "      <td>FR</td>\n",
       "      <td>IP-DGY____EAT82552-VR3-0</td>\n",
       "      <td>STELLANTIS</td>\n",
       "      <td>PSA</td>\n",
       "      <td>PSA AUTOMOBILES SA</td>\n",
       "      <td>NaN</td>\n",
       "      <td>e9*2018/858*11066*03</td>\n",
       "      <td>N</td>\n",
       "      <td>D</td>\n",
       "      <td>...</td>\n",
       "      <td>NaN</td>\n",
       "      <td>NaN</td>\n",
       "      <td>NaN</td>\n",
       "      <td>NaN</td>\n",
       "      <td>NaN</td>\n",
       "      <td>P</td>\n",
       "      <td>2022</td>\n",
       "      <td>2022-12-30</td>\n",
       "      <td>1.3</td>\n",
       "      <td>59.0</td>\n",
       "    </tr>\n",
       "    <tr>\n",
       "      <th>1</th>\n",
       "      <td>77798940</td>\n",
       "      <td>FR</td>\n",
       "      <td>IP-DGY____EAT82552-VR3-0</td>\n",
       "      <td>STELLANTIS</td>\n",
       "      <td>PSA</td>\n",
       "      <td>PSA AUTOMOBILES SA</td>\n",
       "      <td>NaN</td>\n",
       "      <td>e9*2018/858*11066*03</td>\n",
       "      <td>N</td>\n",
       "      <td>D</td>\n",
       "      <td>...</td>\n",
       "      <td>NaN</td>\n",
       "      <td>NaN</td>\n",
       "      <td>NaN</td>\n",
       "      <td>NaN</td>\n",
       "      <td>NaN</td>\n",
       "      <td>P</td>\n",
       "      <td>2022</td>\n",
       "      <td>2022-10-27</td>\n",
       "      <td>1.3</td>\n",
       "      <td>60.0</td>\n",
       "    </tr>\n",
       "    <tr>\n",
       "      <th>2</th>\n",
       "      <td>77798941</td>\n",
       "      <td>FR</td>\n",
       "      <td>IP-DGY____EAT82552-VR3-0</td>\n",
       "      <td>STELLANTIS</td>\n",
       "      <td>PSA</td>\n",
       "      <td>PSA AUTOMOBILES SA</td>\n",
       "      <td>NaN</td>\n",
       "      <td>e9*2018/858*11066*03</td>\n",
       "      <td>N</td>\n",
       "      <td>D</td>\n",
       "      <td>...</td>\n",
       "      <td>NaN</td>\n",
       "      <td>NaN</td>\n",
       "      <td>NaN</td>\n",
       "      <td>NaN</td>\n",
       "      <td>NaN</td>\n",
       "      <td>P</td>\n",
       "      <td>2022</td>\n",
       "      <td>2022-10-31</td>\n",
       "      <td>1.3</td>\n",
       "      <td>59.0</td>\n",
       "    </tr>\n",
       "    <tr>\n",
       "      <th>3</th>\n",
       "      <td>77798942</td>\n",
       "      <td>FR</td>\n",
       "      <td>IP-DGY____EAT82552-VR3-0</td>\n",
       "      <td>STELLANTIS</td>\n",
       "      <td>PSA</td>\n",
       "      <td>PSA AUTOMOBILES SA</td>\n",
       "      <td>NaN</td>\n",
       "      <td>e9*2018/858*11066*03</td>\n",
       "      <td>N</td>\n",
       "      <td>D</td>\n",
       "      <td>...</td>\n",
       "      <td>NaN</td>\n",
       "      <td>NaN</td>\n",
       "      <td>NaN</td>\n",
       "      <td>NaN</td>\n",
       "      <td>NaN</td>\n",
       "      <td>P</td>\n",
       "      <td>2022</td>\n",
       "      <td>2022-11-30</td>\n",
       "      <td>1.3</td>\n",
       "      <td>59.0</td>\n",
       "    </tr>\n",
       "    <tr>\n",
       "      <th>4</th>\n",
       "      <td>77798943</td>\n",
       "      <td>FR</td>\n",
       "      <td>IP-DGY____EAT82552-VR3-0</td>\n",
       "      <td>STELLANTIS</td>\n",
       "      <td>PSA</td>\n",
       "      <td>PSA AUTOMOBILES SA</td>\n",
       "      <td>NaN</td>\n",
       "      <td>e9*2018/858*11066*03</td>\n",
       "      <td>N</td>\n",
       "      <td>D</td>\n",
       "      <td>...</td>\n",
       "      <td>NaN</td>\n",
       "      <td>NaN</td>\n",
       "      <td>NaN</td>\n",
       "      <td>NaN</td>\n",
       "      <td>NaN</td>\n",
       "      <td>P</td>\n",
       "      <td>2022</td>\n",
       "      <td>2022-10-27</td>\n",
       "      <td>1.3</td>\n",
       "      <td>60.0</td>\n",
       "    </tr>\n",
       "    <tr>\n",
       "      <th>...</th>\n",
       "      <td>...</td>\n",
       "      <td>...</td>\n",
       "      <td>...</td>\n",
       "      <td>...</td>\n",
       "      <td>...</td>\n",
       "      <td>...</td>\n",
       "      <td>...</td>\n",
       "      <td>...</td>\n",
       "      <td>...</td>\n",
       "      <td>...</td>\n",
       "      <td>...</td>\n",
       "      <td>...</td>\n",
       "      <td>...</td>\n",
       "      <td>...</td>\n",
       "      <td>...</td>\n",
       "      <td>...</td>\n",
       "      <td>...</td>\n",
       "      <td>...</td>\n",
       "      <td>...</td>\n",
       "      <td>...</td>\n",
       "      <td>...</td>\n",
       "    </tr>\n",
       "    <tr>\n",
       "      <th>9479275</th>\n",
       "      <td>85804985</td>\n",
       "      <td>DK</td>\n",
       "      <td>NaN</td>\n",
       "      <td>NaN</td>\n",
       "      <td>DUPLICATE</td>\n",
       "      <td>AUTOMOBILES PEUGEOT</td>\n",
       "      <td>NaN</td>\n",
       "      <td>e2*2007/46*0534*22</td>\n",
       "      <td>M</td>\n",
       "      <td>R</td>\n",
       "      <td>...</td>\n",
       "      <td>e2 28 29</td>\n",
       "      <td>NaN</td>\n",
       "      <td>2.1</td>\n",
       "      <td>NaN</td>\n",
       "      <td>NaN</td>\n",
       "      <td>P</td>\n",
       "      <td>2022</td>\n",
       "      <td>NaN</td>\n",
       "      <td>NaN</td>\n",
       "      <td>NaN</td>\n",
       "    </tr>\n",
       "    <tr>\n",
       "      <th>9479276</th>\n",
       "      <td>85804990</td>\n",
       "      <td>DK</td>\n",
       "      <td>NaN</td>\n",
       "      <td>NaN</td>\n",
       "      <td>DUPLICATE</td>\n",
       "      <td>AUTOMOBILES PEUGEOT</td>\n",
       "      <td>NaN</td>\n",
       "      <td>e2*2007/46*0534*22</td>\n",
       "      <td>M</td>\n",
       "      <td>R</td>\n",
       "      <td>...</td>\n",
       "      <td>e2 28 29</td>\n",
       "      <td>NaN</td>\n",
       "      <td>2.1</td>\n",
       "      <td>NaN</td>\n",
       "      <td>NaN</td>\n",
       "      <td>P</td>\n",
       "      <td>2022</td>\n",
       "      <td>NaN</td>\n",
       "      <td>NaN</td>\n",
       "      <td>NaN</td>\n",
       "    </tr>\n",
       "    <tr>\n",
       "      <th>9479277</th>\n",
       "      <td>85805000</td>\n",
       "      <td>DK</td>\n",
       "      <td>NaN</td>\n",
       "      <td>NaN</td>\n",
       "      <td>DUPLICATE</td>\n",
       "      <td>AUTOMOBILES PEUGEOT</td>\n",
       "      <td>NaN</td>\n",
       "      <td>e2*2007/46*0534*22</td>\n",
       "      <td>M</td>\n",
       "      <td>R</td>\n",
       "      <td>...</td>\n",
       "      <td>e2 28 29</td>\n",
       "      <td>NaN</td>\n",
       "      <td>2.1</td>\n",
       "      <td>NaN</td>\n",
       "      <td>NaN</td>\n",
       "      <td>P</td>\n",
       "      <td>2022</td>\n",
       "      <td>NaN</td>\n",
       "      <td>NaN</td>\n",
       "      <td>NaN</td>\n",
       "    </tr>\n",
       "    <tr>\n",
       "      <th>9479278</th>\n",
       "      <td>85805005</td>\n",
       "      <td>DK</td>\n",
       "      <td>NaN</td>\n",
       "      <td>NaN</td>\n",
       "      <td>DUPLICATE</td>\n",
       "      <td>AUTOMOBILES PEUGEOT</td>\n",
       "      <td>NaN</td>\n",
       "      <td>e2*2007/46*0534*22</td>\n",
       "      <td>M</td>\n",
       "      <td>R</td>\n",
       "      <td>...</td>\n",
       "      <td>e2 28 29</td>\n",
       "      <td>NaN</td>\n",
       "      <td>2.1</td>\n",
       "      <td>NaN</td>\n",
       "      <td>NaN</td>\n",
       "      <td>P</td>\n",
       "      <td>2022</td>\n",
       "      <td>NaN</td>\n",
       "      <td>NaN</td>\n",
       "      <td>NaN</td>\n",
       "    </tr>\n",
       "    <tr>\n",
       "      <th>9479279</th>\n",
       "      <td>85815141</td>\n",
       "      <td>DK</td>\n",
       "      <td>NaN</td>\n",
       "      <td>NaN</td>\n",
       "      <td>DUPLICATE</td>\n",
       "      <td>BAYERISCHE MOTOREN WERKE AG</td>\n",
       "      <td>NaN</td>\n",
       "      <td>e1*2007/46*1750*13</td>\n",
       "      <td>G5K</td>\n",
       "      <td>11AJ</td>\n",
       "      <td>...</td>\n",
       "      <td>e24 32 37</td>\n",
       "      <td>NaN</td>\n",
       "      <td>1.8</td>\n",
       "      <td>NaN</td>\n",
       "      <td>NaN</td>\n",
       "      <td>P</td>\n",
       "      <td>2022</td>\n",
       "      <td>NaN</td>\n",
       "      <td>NaN</td>\n",
       "      <td>NaN</td>\n",
       "    </tr>\n",
       "  </tbody>\n",
       "</table>\n",
       "<p>9479280 rows × 38 columns</p>\n",
       "</div>"
      ],
      "text/plain": [
       "               ID Country                       VFN          Mp         Mh  \\\n",
       "0        77798939      FR  IP-DGY____EAT82552-VR3-0  STELLANTIS        PSA   \n",
       "1        77798940      FR  IP-DGY____EAT82552-VR3-0  STELLANTIS        PSA   \n",
       "2        77798941      FR  IP-DGY____EAT82552-VR3-0  STELLANTIS        PSA   \n",
       "3        77798942      FR  IP-DGY____EAT82552-VR3-0  STELLANTIS        PSA   \n",
       "4        77798943      FR  IP-DGY____EAT82552-VR3-0  STELLANTIS        PSA   \n",
       "...           ...     ...                       ...         ...        ...   \n",
       "9479275  85804985      DK                       NaN         NaN  DUPLICATE   \n",
       "9479276  85804990      DK                       NaN         NaN  DUPLICATE   \n",
       "9479277  85805000      DK                       NaN         NaN  DUPLICATE   \n",
       "9479278  85805005      DK                       NaN         NaN  DUPLICATE   \n",
       "9479279  85815141      DK                       NaN         NaN  DUPLICATE   \n",
       "\n",
       "                                 Man  MMS                   Tan    T    Va  \\\n",
       "0                 PSA AUTOMOBILES SA  NaN  e9*2018/858*11066*03    N     D   \n",
       "1                 PSA AUTOMOBILES SA  NaN  e9*2018/858*11066*03    N     D   \n",
       "2                 PSA AUTOMOBILES SA  NaN  e9*2018/858*11066*03    N     D   \n",
       "3                 PSA AUTOMOBILES SA  NaN  e9*2018/858*11066*03    N     D   \n",
       "4                 PSA AUTOMOBILES SA  NaN  e9*2018/858*11066*03    N     D   \n",
       "...                              ...  ...                   ...  ...   ...   \n",
       "9479275          AUTOMOBILES PEUGEOT  NaN    e2*2007/46*0534*22    M     R   \n",
       "9479276          AUTOMOBILES PEUGEOT  NaN    e2*2007/46*0534*22    M     R   \n",
       "9479277          AUTOMOBILES PEUGEOT  NaN    e2*2007/46*0534*22    M     R   \n",
       "9479278          AUTOMOBILES PEUGEOT  NaN    e2*2007/46*0534*22    M     R   \n",
       "9479279  BAYERISCHE MOTOREN WERKE AG  NaN    e1*2007/46*1750*13  G5K  11AJ   \n",
       "\n",
       "         ...         IT Ernedc (g/km) Erwltp (g/km)  De  Vf  Status  year  \\\n",
       "0        ...        NaN           NaN           NaN NaN NaN       P  2022   \n",
       "1        ...        NaN           NaN           NaN NaN NaN       P  2022   \n",
       "2        ...        NaN           NaN           NaN NaN NaN       P  2022   \n",
       "3        ...        NaN           NaN           NaN NaN NaN       P  2022   \n",
       "4        ...        NaN           NaN           NaN NaN NaN       P  2022   \n",
       "...      ...        ...           ...           ...  ..  ..     ...   ...   \n",
       "9479275  ...   e2 28 29           NaN           2.1 NaN NaN       P  2022   \n",
       "9479276  ...   e2 28 29           NaN           2.1 NaN NaN       P  2022   \n",
       "9479277  ...   e2 28 29           NaN           2.1 NaN NaN       P  2022   \n",
       "9479278  ...   e2 28 29           NaN           2.1 NaN NaN       P  2022   \n",
       "9479279  ...  e24 32 37           NaN           1.8 NaN NaN       P  2022   \n",
       "\n",
       "         Date of registration  Fuel consumption   Electric range (km)  \n",
       "0                  2022-12-30                1.3                 59.0  \n",
       "1                  2022-10-27                1.3                 60.0  \n",
       "2                  2022-10-31                1.3                 59.0  \n",
       "3                  2022-11-30                1.3                 59.0  \n",
       "4                  2022-10-27                1.3                 60.0  \n",
       "...                       ...                ...                  ...  \n",
       "9479275                   NaN                NaN                  NaN  \n",
       "9479276                   NaN                NaN                  NaN  \n",
       "9479277                   NaN                NaN                  NaN  \n",
       "9479278                   NaN                NaN                  NaN  \n",
       "9479279                   NaN                NaN                  NaN  \n",
       "\n",
       "[9479280 rows x 38 columns]"
      ]
     },
     "execution_count": 147,
     "metadata": {},
     "output_type": "execute_result"
    }
   ],
   "source": [
    "cars_df = pd.read_csv('car_data.csv')\n",
    "cars_df\n",
    "#https://www.eea.europa.eu/en/topics/in-depth/electric-vehicles?activeAccordion=0c1d4a46-bfa0-4770-9a74-740c6919e894"
   ]
  },
  {
   "cell_type": "code",
   "execution_count": 148,
   "id": "3a607ea6",
   "metadata": {},
   "outputs": [
    {
     "data": {
      "text/plain": [
       "array(['FR', 'NO', 'LV', 'ES', 'BE', 'PL', 'DE', 'SI', 'NL', 'HU', 'RO',\n",
       "       'SE', 'IT', 'SK', 'AT', 'BG', 'GR', 'LU', 'PT', 'IS', 'MT', 'CY',\n",
       "       'DK', 'HR', 'CZ', 'FI', 'IE', 'LT', 'EE'], dtype=object)"
      ]
     },
     "execution_count": 148,
     "metadata": {},
     "output_type": "execute_result"
    }
   ],
   "source": [
    "cars_df['Country'].unique() "
   ]
  },
  {
   "cell_type": "code",
   "execution_count": 149,
   "id": "30e2430a",
   "metadata": {},
   "outputs": [
    {
     "data": {
      "text/plain": [
       "Country\n",
       "DE    2570994\n",
       "FR    1638878\n",
       "IT    1312627\n",
       "ES     851105\n",
       "PL     416075\n",
       "BE     366557\n",
       "NL     305887\n",
       "SE     283679\n",
       "AT     214394\n",
       "CZ     185836\n",
       "NO     174106\n",
       "PT     156051\n",
       "DK     143747\n",
       "RO     129072\n",
       "HU     111025\n",
       "IE     105499\n",
       "GR     105231\n",
       "FI      79440\n",
       "SK      78404\n",
       "SI      45411\n",
       "HR      42861\n",
       "LU      38480\n",
       "BG      28244\n",
       "LT      24932\n",
       "EE      20251\n",
       "IS      16528\n",
       "LV      16327\n",
       "CY      11443\n",
       "MT       6196\n",
       "Name: count, dtype: int64"
      ]
     },
     "execution_count": 149,
     "metadata": {},
     "output_type": "execute_result"
    }
   ],
   "source": [
    "cars_df['Country'].value_counts()"
   ]
  },
  {
   "cell_type": "code",
   "execution_count": 150,
   "id": "f940528d",
   "metadata": {},
   "outputs": [
    {
     "name": "stdout",
     "output_type": "stream",
     "text": [
      "['ID', 'Country', 'VFN', 'Mp', 'Mh', 'Man', 'MMS', 'Tan', 'T', 'Va', 'Ve', 'Mk', 'Cn', 'Ct', 'Cr', 'r', 'm (kg)', 'Mt', 'Enedc (g/km)', 'Ewltp (g/km)', 'W (mm)', 'At1 (mm)', 'At2 (mm)', 'Ft', 'Fm', 'ec (cm3)', 'ep (KW)', 'z (Wh/km)', 'IT', 'Ernedc (g/km)', 'Erwltp (g/km)', 'De', 'Vf', 'Status', 'year', 'Date of registration', 'Fuel consumption ', 'Electric range (km)']\n"
     ]
    }
   ],
   "source": [
    "column_names_cars = cars_df.columns.tolist()\n",
    "print(column_names_cars)"
   ]
  },
  {
   "cell_type": "code",
   "execution_count": 151,
   "id": "525e9294",
   "metadata": {},
   "outputs": [],
   "source": [
    "#create a data frame that is only considering Germany\n",
    "cars_de_df = cars_df[cars_df['Country'] == 'DE']"
   ]
  },
  {
   "cell_type": "code",
   "execution_count": 152,
   "id": "241e1282",
   "metadata": {},
   "outputs": [
    {
     "data": {
      "text/html": [
       "<div>\n",
       "<style scoped>\n",
       "    .dataframe tbody tr th:only-of-type {\n",
       "        vertical-align: middle;\n",
       "    }\n",
       "\n",
       "    .dataframe tbody tr th {\n",
       "        vertical-align: top;\n",
       "    }\n",
       "\n",
       "    .dataframe thead th {\n",
       "        text-align: right;\n",
       "    }\n",
       "</style>\n",
       "<table border=\"1\" class=\"dataframe\">\n",
       "  <thead>\n",
       "    <tr style=\"text-align: right;\">\n",
       "      <th></th>\n",
       "      <th>ID</th>\n",
       "      <th>Country</th>\n",
       "      <th>VFN</th>\n",
       "      <th>Mp</th>\n",
       "      <th>Mh</th>\n",
       "      <th>Man</th>\n",
       "      <th>MMS</th>\n",
       "      <th>Tan</th>\n",
       "      <th>T</th>\n",
       "      <th>Va</th>\n",
       "      <th>...</th>\n",
       "      <th>IT</th>\n",
       "      <th>Ernedc (g/km)</th>\n",
       "      <th>Erwltp (g/km)</th>\n",
       "      <th>De</th>\n",
       "      <th>Vf</th>\n",
       "      <th>Status</th>\n",
       "      <th>year</th>\n",
       "      <th>Date of registration</th>\n",
       "      <th>Fuel consumption</th>\n",
       "      <th>Electric range (km)</th>\n",
       "    </tr>\n",
       "  </thead>\n",
       "  <tbody>\n",
       "    <tr>\n",
       "      <th>579410</th>\n",
       "      <td>80049550</td>\n",
       "      <td>DE</td>\n",
       "      <td>IP-MQB27SZ_A0_0549-TMB-1</td>\n",
       "      <td>VOLKSWAGEN</td>\n",
       "      <td>SKODA</td>\n",
       "      <td>SKODA AUTO AS</td>\n",
       "      <td>NaN</td>\n",
       "      <td>e8*2007/46*0349*14</td>\n",
       "      <td>NW</td>\n",
       "      <td>ABCDLAAX0</td>\n",
       "      <td>...</td>\n",
       "      <td>NaN</td>\n",
       "      <td>NaN</td>\n",
       "      <td>NaN</td>\n",
       "      <td>NaN</td>\n",
       "      <td>NaN</td>\n",
       "      <td>P</td>\n",
       "      <td>2022</td>\n",
       "      <td>2022-10-17</td>\n",
       "      <td>5.9</td>\n",
       "      <td>NaN</td>\n",
       "    </tr>\n",
       "    <tr>\n",
       "      <th>579411</th>\n",
       "      <td>80049554</td>\n",
       "      <td>DE</td>\n",
       "      <td>IP-MQB27SZ_A0_0549-TMB-1</td>\n",
       "      <td>VOLKSWAGEN</td>\n",
       "      <td>SKODA</td>\n",
       "      <td>SKODA AUTO AS</td>\n",
       "      <td>NaN</td>\n",
       "      <td>e8*2007/46*0349*14</td>\n",
       "      <td>NW</td>\n",
       "      <td>ABCDLAAX0</td>\n",
       "      <td>...</td>\n",
       "      <td>NaN</td>\n",
       "      <td>NaN</td>\n",
       "      <td>NaN</td>\n",
       "      <td>NaN</td>\n",
       "      <td>NaN</td>\n",
       "      <td>P</td>\n",
       "      <td>2022</td>\n",
       "      <td>2022-05-24</td>\n",
       "      <td>5.9</td>\n",
       "      <td>NaN</td>\n",
       "    </tr>\n",
       "    <tr>\n",
       "      <th>579412</th>\n",
       "      <td>80049559</td>\n",
       "      <td>DE</td>\n",
       "      <td>IP-MQB27SZ_A0_0539-TMB-1</td>\n",
       "      <td>VOLKSWAGEN</td>\n",
       "      <td>SKODA</td>\n",
       "      <td>SKODA AUTO AS</td>\n",
       "      <td>NaN</td>\n",
       "      <td>e8*2007/46*0349*14</td>\n",
       "      <td>NW</td>\n",
       "      <td>ABCDLAAX0</td>\n",
       "      <td>...</td>\n",
       "      <td>NaN</td>\n",
       "      <td>NaN</td>\n",
       "      <td>NaN</td>\n",
       "      <td>NaN</td>\n",
       "      <td>NaN</td>\n",
       "      <td>P</td>\n",
       "      <td>2022</td>\n",
       "      <td>2022-04-29</td>\n",
       "      <td>5.4</td>\n",
       "      <td>NaN</td>\n",
       "    </tr>\n",
       "    <tr>\n",
       "      <th>579413</th>\n",
       "      <td>80049562</td>\n",
       "      <td>DE</td>\n",
       "      <td>IP-MQB27SZ_A0_0549-TMB-1</td>\n",
       "      <td>VOLKSWAGEN</td>\n",
       "      <td>SKODA</td>\n",
       "      <td>SKODA AUTO AS</td>\n",
       "      <td>NaN</td>\n",
       "      <td>e8*2007/46*0349*14</td>\n",
       "      <td>NW</td>\n",
       "      <td>ABCDLAAX0</td>\n",
       "      <td>...</td>\n",
       "      <td>NaN</td>\n",
       "      <td>NaN</td>\n",
       "      <td>NaN</td>\n",
       "      <td>NaN</td>\n",
       "      <td>NaN</td>\n",
       "      <td>P</td>\n",
       "      <td>2022</td>\n",
       "      <td>2022-05-11</td>\n",
       "      <td>5.9</td>\n",
       "      <td>NaN</td>\n",
       "    </tr>\n",
       "    <tr>\n",
       "      <th>579414</th>\n",
       "      <td>80049563</td>\n",
       "      <td>DE</td>\n",
       "      <td>IP-MQB27SZ_A0_0539-TMB-1</td>\n",
       "      <td>VOLKSWAGEN</td>\n",
       "      <td>SKODA</td>\n",
       "      <td>SKODA AUTO AS</td>\n",
       "      <td>NaN</td>\n",
       "      <td>e8*2007/46*0349*14</td>\n",
       "      <td>NW</td>\n",
       "      <td>ABCDLAAX0</td>\n",
       "      <td>...</td>\n",
       "      <td>NaN</td>\n",
       "      <td>NaN</td>\n",
       "      <td>NaN</td>\n",
       "      <td>NaN</td>\n",
       "      <td>NaN</td>\n",
       "      <td>P</td>\n",
       "      <td>2022</td>\n",
       "      <td>2022-05-10</td>\n",
       "      <td>5.4</td>\n",
       "      <td>NaN</td>\n",
       "    </tr>\n",
       "    <tr>\n",
       "      <th>...</th>\n",
       "      <td>...</td>\n",
       "      <td>...</td>\n",
       "      <td>...</td>\n",
       "      <td>...</td>\n",
       "      <td>...</td>\n",
       "      <td>...</td>\n",
       "      <td>...</td>\n",
       "      <td>...</td>\n",
       "      <td>...</td>\n",
       "      <td>...</td>\n",
       "      <td>...</td>\n",
       "      <td>...</td>\n",
       "      <td>...</td>\n",
       "      <td>...</td>\n",
       "      <td>...</td>\n",
       "      <td>...</td>\n",
       "      <td>...</td>\n",
       "      <td>...</td>\n",
       "      <td>...</td>\n",
       "      <td>...</td>\n",
       "      <td>...</td>\n",
       "    </tr>\n",
       "    <tr>\n",
       "      <th>9479257</th>\n",
       "      <td>79719120</td>\n",
       "      <td>DE</td>\n",
       "      <td>IP-0104-JT1-1</td>\n",
       "      <td>NaN</td>\n",
       "      <td>DUPLICATE</td>\n",
       "      <td>TOYOTA MOTOR EUROPE NV SA</td>\n",
       "      <td>NaN</td>\n",
       "      <td>e6*2007/46*0289*04</td>\n",
       "      <td>XA5(EU.M)</td>\n",
       "      <td>AXAL52(N)</td>\n",
       "      <td>...</td>\n",
       "      <td>NaN</td>\n",
       "      <td>NaN</td>\n",
       "      <td>NaN</td>\n",
       "      <td>NaN</td>\n",
       "      <td>NaN</td>\n",
       "      <td>P</td>\n",
       "      <td>2022</td>\n",
       "      <td>2022-08-11</td>\n",
       "      <td>NaN</td>\n",
       "      <td>NaN</td>\n",
       "    </tr>\n",
       "    <tr>\n",
       "      <th>9479258</th>\n",
       "      <td>79898480</td>\n",
       "      <td>DE</td>\n",
       "      <td>IP-0500779-NLH-1</td>\n",
       "      <td>NaN</td>\n",
       "      <td>DUPLICATE</td>\n",
       "      <td>HYUNDAI ASSAN OTOMOTIV SANAYI VE TICARET AS</td>\n",
       "      <td>NaN</td>\n",
       "      <td>e5*2007/46*0121*03</td>\n",
       "      <td>BC3</td>\n",
       "      <td>C5P51</td>\n",
       "      <td>...</td>\n",
       "      <td>e5 29 37</td>\n",
       "      <td>NaN</td>\n",
       "      <td>2.17</td>\n",
       "      <td>NaN</td>\n",
       "      <td>NaN</td>\n",
       "      <td>P</td>\n",
       "      <td>2022</td>\n",
       "      <td>2022-08-29</td>\n",
       "      <td>NaN</td>\n",
       "      <td>NaN</td>\n",
       "    </tr>\n",
       "    <tr>\n",
       "      <th>9479259</th>\n",
       "      <td>79898481</td>\n",
       "      <td>DE</td>\n",
       "      <td>IP-0500779-NLH-1</td>\n",
       "      <td>NaN</td>\n",
       "      <td>DUPLICATE</td>\n",
       "      <td>HYUNDAI ASSAN OTOMOTIV SANAYI VE TICARET AS</td>\n",
       "      <td>NaN</td>\n",
       "      <td>e5*2007/46*0121*03</td>\n",
       "      <td>BC3</td>\n",
       "      <td>C5P51</td>\n",
       "      <td>...</td>\n",
       "      <td>e5 29 37</td>\n",
       "      <td>NaN</td>\n",
       "      <td>2.17</td>\n",
       "      <td>NaN</td>\n",
       "      <td>NaN</td>\n",
       "      <td>P</td>\n",
       "      <td>2022</td>\n",
       "      <td>2022-08-29</td>\n",
       "      <td>NaN</td>\n",
       "      <td>NaN</td>\n",
       "    </tr>\n",
       "    <tr>\n",
       "      <th>9479260</th>\n",
       "      <td>79978520</td>\n",
       "      <td>DE</td>\n",
       "      <td>IP-050629-TMA-1</td>\n",
       "      <td>NaN</td>\n",
       "      <td>DUPLICATE</td>\n",
       "      <td>HYUNDAI MOTOR MANUFACTURING CZECH SRO</td>\n",
       "      <td>NaN</td>\n",
       "      <td>e5*2007/46*1075*10</td>\n",
       "      <td>PDE</td>\n",
       "      <td>BBP91</td>\n",
       "      <td>...</td>\n",
       "      <td>NaN</td>\n",
       "      <td>NaN</td>\n",
       "      <td>NaN</td>\n",
       "      <td>NaN</td>\n",
       "      <td>NaN</td>\n",
       "      <td>P</td>\n",
       "      <td>2022</td>\n",
       "      <td>2022-04-05</td>\n",
       "      <td>NaN</td>\n",
       "      <td>NaN</td>\n",
       "    </tr>\n",
       "    <tr>\n",
       "      <th>9479261</th>\n",
       "      <td>79987802</td>\n",
       "      <td>DE</td>\n",
       "      <td>IP-0500707-TMA-1</td>\n",
       "      <td>NaN</td>\n",
       "      <td>DUPLICATE</td>\n",
       "      <td>HYUNDAI MOTOR MANUFACTURING CZECH SRO</td>\n",
       "      <td>NaN</td>\n",
       "      <td>e5*2018/858*00001*04</td>\n",
       "      <td>NX4E</td>\n",
       "      <td>F5P21</td>\n",
       "      <td>...</td>\n",
       "      <td>NaN</td>\n",
       "      <td>NaN</td>\n",
       "      <td>NaN</td>\n",
       "      <td>NaN</td>\n",
       "      <td>NaN</td>\n",
       "      <td>P</td>\n",
       "      <td>2022</td>\n",
       "      <td>2022-07-26</td>\n",
       "      <td>NaN</td>\n",
       "      <td>NaN</td>\n",
       "    </tr>\n",
       "  </tbody>\n",
       "</table>\n",
       "<p>2570994 rows × 38 columns</p>\n",
       "</div>"
      ],
      "text/plain": [
       "               ID Country                       VFN          Mp         Mh  \\\n",
       "579410   80049550      DE  IP-MQB27SZ_A0_0549-TMB-1  VOLKSWAGEN      SKODA   \n",
       "579411   80049554      DE  IP-MQB27SZ_A0_0549-TMB-1  VOLKSWAGEN      SKODA   \n",
       "579412   80049559      DE  IP-MQB27SZ_A0_0539-TMB-1  VOLKSWAGEN      SKODA   \n",
       "579413   80049562      DE  IP-MQB27SZ_A0_0549-TMB-1  VOLKSWAGEN      SKODA   \n",
       "579414   80049563      DE  IP-MQB27SZ_A0_0539-TMB-1  VOLKSWAGEN      SKODA   \n",
       "...           ...     ...                       ...         ...        ...   \n",
       "9479257  79719120      DE             IP-0104-JT1-1         NaN  DUPLICATE   \n",
       "9479258  79898480      DE          IP-0500779-NLH-1         NaN  DUPLICATE   \n",
       "9479259  79898481      DE          IP-0500779-NLH-1         NaN  DUPLICATE   \n",
       "9479260  79978520      DE           IP-050629-TMA-1         NaN  DUPLICATE   \n",
       "9479261  79987802      DE          IP-0500707-TMA-1         NaN  DUPLICATE   \n",
       "\n",
       "                                                 Man  MMS  \\\n",
       "579410                                 SKODA AUTO AS  NaN   \n",
       "579411                                 SKODA AUTO AS  NaN   \n",
       "579412                                 SKODA AUTO AS  NaN   \n",
       "579413                                 SKODA AUTO AS  NaN   \n",
       "579414                                 SKODA AUTO AS  NaN   \n",
       "...                                              ...  ...   \n",
       "9479257                    TOYOTA MOTOR EUROPE NV SA  NaN   \n",
       "9479258  HYUNDAI ASSAN OTOMOTIV SANAYI VE TICARET AS  NaN   \n",
       "9479259  HYUNDAI ASSAN OTOMOTIV SANAYI VE TICARET AS  NaN   \n",
       "9479260        HYUNDAI MOTOR MANUFACTURING CZECH SRO  NaN   \n",
       "9479261        HYUNDAI MOTOR MANUFACTURING CZECH SRO  NaN   \n",
       "\n",
       "                          Tan          T         Va  ...        IT  \\\n",
       "579410     e8*2007/46*0349*14         NW  ABCDLAAX0  ...       NaN   \n",
       "579411     e8*2007/46*0349*14         NW  ABCDLAAX0  ...       NaN   \n",
       "579412     e8*2007/46*0349*14         NW  ABCDLAAX0  ...       NaN   \n",
       "579413     e8*2007/46*0349*14         NW  ABCDLAAX0  ...       NaN   \n",
       "579414     e8*2007/46*0349*14         NW  ABCDLAAX0  ...       NaN   \n",
       "...                       ...        ...        ...  ...       ...   \n",
       "9479257    e6*2007/46*0289*04  XA5(EU.M)  AXAL52(N)  ...       NaN   \n",
       "9479258    e5*2007/46*0121*03        BC3      C5P51  ...  e5 29 37   \n",
       "9479259    e5*2007/46*0121*03        BC3      C5P51  ...  e5 29 37   \n",
       "9479260    e5*2007/46*1075*10        PDE      BBP91  ...       NaN   \n",
       "9479261  e5*2018/858*00001*04       NX4E      F5P21  ...       NaN   \n",
       "\n",
       "        Ernedc (g/km) Erwltp (g/km)  De  Vf  Status  year  \\\n",
       "579410            NaN           NaN NaN NaN       P  2022   \n",
       "579411            NaN           NaN NaN NaN       P  2022   \n",
       "579412            NaN           NaN NaN NaN       P  2022   \n",
       "579413            NaN           NaN NaN NaN       P  2022   \n",
       "579414            NaN           NaN NaN NaN       P  2022   \n",
       "...               ...           ...  ..  ..     ...   ...   \n",
       "9479257           NaN           NaN NaN NaN       P  2022   \n",
       "9479258           NaN          2.17 NaN NaN       P  2022   \n",
       "9479259           NaN          2.17 NaN NaN       P  2022   \n",
       "9479260           NaN           NaN NaN NaN       P  2022   \n",
       "9479261           NaN           NaN NaN NaN       P  2022   \n",
       "\n",
       "         Date of registration  Fuel consumption   Electric range (km)  \n",
       "579410             2022-10-17                5.9                  NaN  \n",
       "579411             2022-05-24                5.9                  NaN  \n",
       "579412             2022-04-29                5.4                  NaN  \n",
       "579413             2022-05-11                5.9                  NaN  \n",
       "579414             2022-05-10                5.4                  NaN  \n",
       "...                       ...                ...                  ...  \n",
       "9479257            2022-08-11                NaN                  NaN  \n",
       "9479258            2022-08-29                NaN                  NaN  \n",
       "9479259            2022-08-29                NaN                  NaN  \n",
       "9479260            2022-04-05                NaN                  NaN  \n",
       "9479261            2022-07-26                NaN                  NaN  \n",
       "\n",
       "[2570994 rows x 38 columns]"
      ]
     },
     "execution_count": 152,
     "metadata": {},
     "output_type": "execute_result"
    }
   ],
   "source": [
    "cars_de_df"
   ]
  },
  {
   "cell_type": "code",
   "execution_count": 153,
   "id": "f05a3df4",
   "metadata": {},
   "outputs": [
    {
     "data": {
      "text/plain": [
       "array([nan,  0., 26., 31.])"
      ]
     },
     "execution_count": 153,
     "metadata": {},
     "output_type": "execute_result"
    }
   ],
   "source": [
    "cars_de_df['Enedc (g/km)'].unique() "
   ]
  },
  {
   "cell_type": "code",
   "execution_count": 154,
   "id": "980e549c",
   "metadata": {},
   "outputs": [
    {
     "data": {
      "text/html": [
       "<div>\n",
       "<style scoped>\n",
       "    .dataframe tbody tr th:only-of-type {\n",
       "        vertical-align: middle;\n",
       "    }\n",
       "\n",
       "    .dataframe tbody tr th {\n",
       "        vertical-align: top;\n",
       "    }\n",
       "\n",
       "    .dataframe thead th {\n",
       "        text-align: right;\n",
       "    }\n",
       "</style>\n",
       "<table border=\"1\" class=\"dataframe\">\n",
       "  <thead>\n",
       "    <tr style=\"text-align: right;\">\n",
       "      <th></th>\n",
       "      <th>ID</th>\n",
       "      <th>Country</th>\n",
       "      <th>VFN</th>\n",
       "      <th>Mp</th>\n",
       "      <th>Mh</th>\n",
       "      <th>Man</th>\n",
       "      <th>MMS</th>\n",
       "      <th>Tan</th>\n",
       "      <th>T</th>\n",
       "      <th>Va</th>\n",
       "      <th>...</th>\n",
       "      <th>r</th>\n",
       "      <th>m (kg)</th>\n",
       "      <th>Mt</th>\n",
       "      <th>De</th>\n",
       "      <th>Vf</th>\n",
       "      <th>Status</th>\n",
       "      <th>year</th>\n",
       "      <th>Date of registration</th>\n",
       "      <th>Fuel consumption</th>\n",
       "      <th>Electric range (km)</th>\n",
       "    </tr>\n",
       "  </thead>\n",
       "  <tbody>\n",
       "    <tr>\n",
       "      <th>579410</th>\n",
       "      <td>80049550</td>\n",
       "      <td>DE</td>\n",
       "      <td>IP-MQB27SZ_A0_0549-TMB-1</td>\n",
       "      <td>VOLKSWAGEN</td>\n",
       "      <td>SKODA</td>\n",
       "      <td>SKODA AUTO AS</td>\n",
       "      <td>NaN</td>\n",
       "      <td>e8*2007/46*0349*14</td>\n",
       "      <td>NW</td>\n",
       "      <td>ABCDLAAX0</td>\n",
       "      <td>...</td>\n",
       "      <td>1</td>\n",
       "      <td>1262.0</td>\n",
       "      <td>1398.0</td>\n",
       "      <td>NaN</td>\n",
       "      <td>NaN</td>\n",
       "      <td>P</td>\n",
       "      <td>2022</td>\n",
       "      <td>2022-10-17</td>\n",
       "      <td>5.9</td>\n",
       "      <td>NaN</td>\n",
       "    </tr>\n",
       "    <tr>\n",
       "      <th>579411</th>\n",
       "      <td>80049554</td>\n",
       "      <td>DE</td>\n",
       "      <td>IP-MQB27SZ_A0_0549-TMB-1</td>\n",
       "      <td>VOLKSWAGEN</td>\n",
       "      <td>SKODA</td>\n",
       "      <td>SKODA AUTO AS</td>\n",
       "      <td>NaN</td>\n",
       "      <td>e8*2007/46*0349*14</td>\n",
       "      <td>NW</td>\n",
       "      <td>ABCDLAAX0</td>\n",
       "      <td>...</td>\n",
       "      <td>1</td>\n",
       "      <td>1277.0</td>\n",
       "      <td>1393.0</td>\n",
       "      <td>NaN</td>\n",
       "      <td>NaN</td>\n",
       "      <td>P</td>\n",
       "      <td>2022</td>\n",
       "      <td>2022-05-24</td>\n",
       "      <td>5.9</td>\n",
       "      <td>NaN</td>\n",
       "    </tr>\n",
       "    <tr>\n",
       "      <th>579412</th>\n",
       "      <td>80049559</td>\n",
       "      <td>DE</td>\n",
       "      <td>IP-MQB27SZ_A0_0539-TMB-1</td>\n",
       "      <td>VOLKSWAGEN</td>\n",
       "      <td>SKODA</td>\n",
       "      <td>SKODA AUTO AS</td>\n",
       "      <td>NaN</td>\n",
       "      <td>e8*2007/46*0349*14</td>\n",
       "      <td>NW</td>\n",
       "      <td>ABCDLAAX0</td>\n",
       "      <td>...</td>\n",
       "      <td>1</td>\n",
       "      <td>1242.0</td>\n",
       "      <td>1361.0</td>\n",
       "      <td>NaN</td>\n",
       "      <td>NaN</td>\n",
       "      <td>P</td>\n",
       "      <td>2022</td>\n",
       "      <td>2022-04-29</td>\n",
       "      <td>5.4</td>\n",
       "      <td>NaN</td>\n",
       "    </tr>\n",
       "    <tr>\n",
       "      <th>579413</th>\n",
       "      <td>80049562</td>\n",
       "      <td>DE</td>\n",
       "      <td>IP-MQB27SZ_A0_0549-TMB-1</td>\n",
       "      <td>VOLKSWAGEN</td>\n",
       "      <td>SKODA</td>\n",
       "      <td>SKODA AUTO AS</td>\n",
       "      <td>NaN</td>\n",
       "      <td>e8*2007/46*0349*14</td>\n",
       "      <td>NW</td>\n",
       "      <td>ABCDLAAX0</td>\n",
       "      <td>...</td>\n",
       "      <td>1</td>\n",
       "      <td>1262.0</td>\n",
       "      <td>1404.0</td>\n",
       "      <td>NaN</td>\n",
       "      <td>NaN</td>\n",
       "      <td>P</td>\n",
       "      <td>2022</td>\n",
       "      <td>2022-05-11</td>\n",
       "      <td>5.9</td>\n",
       "      <td>NaN</td>\n",
       "    </tr>\n",
       "    <tr>\n",
       "      <th>579414</th>\n",
       "      <td>80049563</td>\n",
       "      <td>DE</td>\n",
       "      <td>IP-MQB27SZ_A0_0539-TMB-1</td>\n",
       "      <td>VOLKSWAGEN</td>\n",
       "      <td>SKODA</td>\n",
       "      <td>SKODA AUTO AS</td>\n",
       "      <td>NaN</td>\n",
       "      <td>e8*2007/46*0349*14</td>\n",
       "      <td>NW</td>\n",
       "      <td>ABCDLAAX0</td>\n",
       "      <td>...</td>\n",
       "      <td>1</td>\n",
       "      <td>1242.0</td>\n",
       "      <td>1378.0</td>\n",
       "      <td>NaN</td>\n",
       "      <td>NaN</td>\n",
       "      <td>P</td>\n",
       "      <td>2022</td>\n",
       "      <td>2022-05-10</td>\n",
       "      <td>5.4</td>\n",
       "      <td>NaN</td>\n",
       "    </tr>\n",
       "    <tr>\n",
       "      <th>...</th>\n",
       "      <td>...</td>\n",
       "      <td>...</td>\n",
       "      <td>...</td>\n",
       "      <td>...</td>\n",
       "      <td>...</td>\n",
       "      <td>...</td>\n",
       "      <td>...</td>\n",
       "      <td>...</td>\n",
       "      <td>...</td>\n",
       "      <td>...</td>\n",
       "      <td>...</td>\n",
       "      <td>...</td>\n",
       "      <td>...</td>\n",
       "      <td>...</td>\n",
       "      <td>...</td>\n",
       "      <td>...</td>\n",
       "      <td>...</td>\n",
       "      <td>...</td>\n",
       "      <td>...</td>\n",
       "      <td>...</td>\n",
       "      <td>...</td>\n",
       "    </tr>\n",
       "    <tr>\n",
       "      <th>9479257</th>\n",
       "      <td>79719120</td>\n",
       "      <td>DE</td>\n",
       "      <td>IP-0104-JT1-1</td>\n",
       "      <td>NaN</td>\n",
       "      <td>DUPLICATE</td>\n",
       "      <td>TOYOTA MOTOR EUROPE NV SA</td>\n",
       "      <td>NaN</td>\n",
       "      <td>e6*2007/46*0289*04</td>\n",
       "      <td>XA5(EU.M)</td>\n",
       "      <td>AXAL52(N)</td>\n",
       "      <td>...</td>\n",
       "      <td>1</td>\n",
       "      <td>1665.0</td>\n",
       "      <td>1780.0</td>\n",
       "      <td>NaN</td>\n",
       "      <td>NaN</td>\n",
       "      <td>P</td>\n",
       "      <td>2022</td>\n",
       "      <td>2022-08-11</td>\n",
       "      <td>NaN</td>\n",
       "      <td>NaN</td>\n",
       "    </tr>\n",
       "    <tr>\n",
       "      <th>9479258</th>\n",
       "      <td>79898480</td>\n",
       "      <td>DE</td>\n",
       "      <td>IP-0500779-NLH-1</td>\n",
       "      <td>NaN</td>\n",
       "      <td>DUPLICATE</td>\n",
       "      <td>HYUNDAI ASSAN OTOMOTIV SANAYI VE TICARET AS</td>\n",
       "      <td>NaN</td>\n",
       "      <td>e5*2007/46*0121*03</td>\n",
       "      <td>BC3</td>\n",
       "      <td>C5P51</td>\n",
       "      <td>...</td>\n",
       "      <td>1</td>\n",
       "      <td>1195.0</td>\n",
       "      <td>1320.0</td>\n",
       "      <td>NaN</td>\n",
       "      <td>NaN</td>\n",
       "      <td>P</td>\n",
       "      <td>2022</td>\n",
       "      <td>2022-08-29</td>\n",
       "      <td>NaN</td>\n",
       "      <td>NaN</td>\n",
       "    </tr>\n",
       "    <tr>\n",
       "      <th>9479259</th>\n",
       "      <td>79898481</td>\n",
       "      <td>DE</td>\n",
       "      <td>IP-0500779-NLH-1</td>\n",
       "      <td>NaN</td>\n",
       "      <td>DUPLICATE</td>\n",
       "      <td>HYUNDAI ASSAN OTOMOTIV SANAYI VE TICARET AS</td>\n",
       "      <td>NaN</td>\n",
       "      <td>e5*2007/46*0121*03</td>\n",
       "      <td>BC3</td>\n",
       "      <td>C5P51</td>\n",
       "      <td>...</td>\n",
       "      <td>1</td>\n",
       "      <td>1195.0</td>\n",
       "      <td>1320.0</td>\n",
       "      <td>NaN</td>\n",
       "      <td>NaN</td>\n",
       "      <td>P</td>\n",
       "      <td>2022</td>\n",
       "      <td>2022-08-29</td>\n",
       "      <td>NaN</td>\n",
       "      <td>NaN</td>\n",
       "    </tr>\n",
       "    <tr>\n",
       "      <th>9479260</th>\n",
       "      <td>79978520</td>\n",
       "      <td>DE</td>\n",
       "      <td>IP-050629-TMA-1</td>\n",
       "      <td>NaN</td>\n",
       "      <td>DUPLICATE</td>\n",
       "      <td>HYUNDAI MOTOR MANUFACTURING CZECH SRO</td>\n",
       "      <td>NaN</td>\n",
       "      <td>e5*2007/46*1075*10</td>\n",
       "      <td>PDE</td>\n",
       "      <td>BBP91</td>\n",
       "      <td>...</td>\n",
       "      <td>1</td>\n",
       "      <td>1444.0</td>\n",
       "      <td>1522.0</td>\n",
       "      <td>NaN</td>\n",
       "      <td>NaN</td>\n",
       "      <td>P</td>\n",
       "      <td>2022</td>\n",
       "      <td>2022-04-05</td>\n",
       "      <td>NaN</td>\n",
       "      <td>NaN</td>\n",
       "    </tr>\n",
       "    <tr>\n",
       "      <th>9479261</th>\n",
       "      <td>79987802</td>\n",
       "      <td>DE</td>\n",
       "      <td>IP-0500707-TMA-1</td>\n",
       "      <td>NaN</td>\n",
       "      <td>DUPLICATE</td>\n",
       "      <td>HYUNDAI MOTOR MANUFACTURING CZECH SRO</td>\n",
       "      <td>NaN</td>\n",
       "      <td>e5*2018/858*00001*04</td>\n",
       "      <td>NX4E</td>\n",
       "      <td>F5P21</td>\n",
       "      <td>...</td>\n",
       "      <td>1</td>\n",
       "      <td>1566.0</td>\n",
       "      <td>1625.0</td>\n",
       "      <td>NaN</td>\n",
       "      <td>NaN</td>\n",
       "      <td>P</td>\n",
       "      <td>2022</td>\n",
       "      <td>2022-07-26</td>\n",
       "      <td>NaN</td>\n",
       "      <td>NaN</td>\n",
       "    </tr>\n",
       "  </tbody>\n",
       "</table>\n",
       "<p>2570994 rows × 25 columns</p>\n",
       "</div>"
      ],
      "text/plain": [
       "               ID Country                       VFN          Mp         Mh  \\\n",
       "579410   80049550      DE  IP-MQB27SZ_A0_0549-TMB-1  VOLKSWAGEN      SKODA   \n",
       "579411   80049554      DE  IP-MQB27SZ_A0_0549-TMB-1  VOLKSWAGEN      SKODA   \n",
       "579412   80049559      DE  IP-MQB27SZ_A0_0539-TMB-1  VOLKSWAGEN      SKODA   \n",
       "579413   80049562      DE  IP-MQB27SZ_A0_0549-TMB-1  VOLKSWAGEN      SKODA   \n",
       "579414   80049563      DE  IP-MQB27SZ_A0_0539-TMB-1  VOLKSWAGEN      SKODA   \n",
       "...           ...     ...                       ...         ...        ...   \n",
       "9479257  79719120      DE             IP-0104-JT1-1         NaN  DUPLICATE   \n",
       "9479258  79898480      DE          IP-0500779-NLH-1         NaN  DUPLICATE   \n",
       "9479259  79898481      DE          IP-0500779-NLH-1         NaN  DUPLICATE   \n",
       "9479260  79978520      DE           IP-050629-TMA-1         NaN  DUPLICATE   \n",
       "9479261  79987802      DE          IP-0500707-TMA-1         NaN  DUPLICATE   \n",
       "\n",
       "                                                 Man  MMS  \\\n",
       "579410                                 SKODA AUTO AS  NaN   \n",
       "579411                                 SKODA AUTO AS  NaN   \n",
       "579412                                 SKODA AUTO AS  NaN   \n",
       "579413                                 SKODA AUTO AS  NaN   \n",
       "579414                                 SKODA AUTO AS  NaN   \n",
       "...                                              ...  ...   \n",
       "9479257                    TOYOTA MOTOR EUROPE NV SA  NaN   \n",
       "9479258  HYUNDAI ASSAN OTOMOTIV SANAYI VE TICARET AS  NaN   \n",
       "9479259  HYUNDAI ASSAN OTOMOTIV SANAYI VE TICARET AS  NaN   \n",
       "9479260        HYUNDAI MOTOR MANUFACTURING CZECH SRO  NaN   \n",
       "9479261        HYUNDAI MOTOR MANUFACTURING CZECH SRO  NaN   \n",
       "\n",
       "                          Tan          T         Va  ...  r  m (kg)      Mt  \\\n",
       "579410     e8*2007/46*0349*14         NW  ABCDLAAX0  ...  1  1262.0  1398.0   \n",
       "579411     e8*2007/46*0349*14         NW  ABCDLAAX0  ...  1  1277.0  1393.0   \n",
       "579412     e8*2007/46*0349*14         NW  ABCDLAAX0  ...  1  1242.0  1361.0   \n",
       "579413     e8*2007/46*0349*14         NW  ABCDLAAX0  ...  1  1262.0  1404.0   \n",
       "579414     e8*2007/46*0349*14         NW  ABCDLAAX0  ...  1  1242.0  1378.0   \n",
       "...                       ...        ...        ...  ... ..     ...     ...   \n",
       "9479257    e6*2007/46*0289*04  XA5(EU.M)  AXAL52(N)  ...  1  1665.0  1780.0   \n",
       "9479258    e5*2007/46*0121*03        BC3      C5P51  ...  1  1195.0  1320.0   \n",
       "9479259    e5*2007/46*0121*03        BC3      C5P51  ...  1  1195.0  1320.0   \n",
       "9479260    e5*2007/46*1075*10        PDE      BBP91  ...  1  1444.0  1522.0   \n",
       "9479261  e5*2018/858*00001*04       NX4E      F5P21  ...  1  1566.0  1625.0   \n",
       "\n",
       "         De  Vf  Status  year  Date of registration  Fuel consumption   \\\n",
       "579410  NaN NaN       P  2022            2022-10-17                5.9   \n",
       "579411  NaN NaN       P  2022            2022-05-24                5.9   \n",
       "579412  NaN NaN       P  2022            2022-04-29                5.4   \n",
       "579413  NaN NaN       P  2022            2022-05-11                5.9   \n",
       "579414  NaN NaN       P  2022            2022-05-10                5.4   \n",
       "...      ..  ..     ...   ...                   ...                ...   \n",
       "9479257 NaN NaN       P  2022            2022-08-11                NaN   \n",
       "9479258 NaN NaN       P  2022            2022-08-29                NaN   \n",
       "9479259 NaN NaN       P  2022            2022-08-29                NaN   \n",
       "9479260 NaN NaN       P  2022            2022-04-05                NaN   \n",
       "9479261 NaN NaN       P  2022            2022-07-26                NaN   \n",
       "\n",
       "         Electric range (km)  \n",
       "579410                   NaN  \n",
       "579411                   NaN  \n",
       "579412                   NaN  \n",
       "579413                   NaN  \n",
       "579414                   NaN  \n",
       "...                      ...  \n",
       "9479257                  NaN  \n",
       "9479258                  NaN  \n",
       "9479259                  NaN  \n",
       "9479260                  NaN  \n",
       "9479261                  NaN  \n",
       "\n",
       "[2570994 rows x 25 columns]"
      ]
     },
     "execution_count": 154,
     "metadata": {},
     "output_type": "execute_result"
    }
   ],
   "source": [
    "cars_de= cars_de_df.drop(['Enedc (g/km)', 'Ewltp (g/km)', 'W (mm)', 'At1 (mm)', 'At2 (mm)', 'Ft', 'Fm', 'ec (cm3)', 'ep (KW)', 'z (Wh/km)', 'IT', 'Ernedc (g/km)', 'Erwltp (g/km)'], axis=1)\n",
    "cars_de"
   ]
  },
  {
   "cell_type": "code",
   "execution_count": 155,
   "id": "83510fb9",
   "metadata": {},
   "outputs": [
    {
     "data": {
      "text/plain": [
       "(2570994, 25)"
      ]
     },
     "execution_count": 155,
     "metadata": {},
     "output_type": "execute_result"
    }
   ],
   "source": [
    "cars_de.shape"
   ]
  },
  {
   "cell_type": "code",
   "execution_count": 156,
   "id": "74b95bc5",
   "metadata": {},
   "outputs": [
    {
     "name": "stdout",
     "output_type": "stream",
     "text": [
      "['ID', 'Country', 'VFN', 'Mp', 'Mh', 'Man', 'MMS', 'Tan', 'T', 'Va', 'Ve', 'Mk', 'Cn', 'Ct', 'Cr', 'r', 'm (kg)', 'Mt', 'De', 'Vf', 'Status', 'year', 'Date of registration', 'Fuel consumption ', 'Electric range (km)']\n"
     ]
    }
   ],
   "source": [
    "columns_cars = cars_de.columns.tolist()\n",
    "print(columns_cars)"
   ]
  },
  {
   "cell_type": "code",
   "execution_count": 157,
   "id": "825ec960",
   "metadata": {},
   "outputs": [
    {
     "data": {
      "text/plain": [
       "array(['VOLKSWAGEN', 'TESLA-HONDA-JLR', nan, 'RENAULT-NISSAN-MITSUBISHI',\n",
       "       'HYUNDAI MOTOR EUROPE', 'KIA', 'MAZDA-SUBARU-SUZUKI-TOYOTA', 'BMW',\n",
       "       'STELLANTIS', 'FORD', 'MERCEDES-BENZ'], dtype=object)"
      ]
     },
     "execution_count": 157,
     "metadata": {},
     "output_type": "execute_result"
    }
   ],
   "source": [
    "cars_de['Mp'].unique() \n",
    "#can drop this"
   ]
  },
  {
   "cell_type": "code",
   "execution_count": 158,
   "id": "e2cae7bb",
   "metadata": {},
   "outputs": [
    {
     "data": {
      "text/plain": [
       "array(['IP-MQB27SZ_A0_0549-TMB-1', 'IP-MQB27SZ_A0_0539-TMB-1',\n",
       "       'IP-MQB27SZ_B0_0539-TMB-1', ..., 'IP-MQB37AS_B0_0821-TMB-1',\n",
       "       'IP-MQB37AS_A0_0821-TMB-1', 'IP-MQB37SZ_B1_0552-VSS-1'],\n",
       "      dtype=object)"
      ]
     },
     "execution_count": 158,
     "metadata": {},
     "output_type": "execute_result"
    }
   ],
   "source": [
    "cars_de['VFN'].unique() \n",
    "#can drop this"
   ]
  },
  {
   "cell_type": "code",
   "execution_count": 159,
   "id": "0f182832",
   "metadata": {
    "scrolled": true
   },
   "outputs": [
    {
     "data": {
      "text/plain": [
       "array(['SKODA', 'TESLA', 'SAIC MOTOR CORPORATION', 'AA-IVA', 'HENAN SUDA',\n",
       "       'DFSK', 'JIANGLING MOTOR', 'VOLVO', 'LANZHOU',\n",
       "       'MITSUBISHI MOTORS THAILAND', 'HYUNDAI ASSAN', 'BENTLEY',\n",
       "       'NISSAN AUTOMOTIVE EUROPE', 'HYUNDAI CZECH', 'DUPLICATE',\n",
       "       'HYUNDAI', 'KIA', 'SSANGYONG', 'ZHAOQING', 'GEELY', 'BYD',\n",
       "       'GREAT WALL MOTOR', 'NIO', 'ANHUI',\n",
       "       'MITSUBISHI MOTORS CORPORATION', 'NANJING GOLDEN DRAGON',\n",
       "       'POLESTAR', 'VOLKSWAGEN', 'AUDI AG', 'OUT OF SCOPE', 'DONKERVOORT',\n",
       "       'TOYOTA', 'TOYOTA MOTOR CORPORATION', 'BMW AG', 'CHRYSLER',\n",
       "       'MAZDA', 'LUCID USA', 'SUZUKI MOTOR CORPORATION',\n",
       "       'FORD MOTOR AUSTRALIA', 'SMART', 'SUBARU', 'FORD MOTOR COMPANY',\n",
       "       'GENERAL MOTORS HOLDINGS', 'HONDA MOTOR CO', 'MAZDA EUROPE',\n",
       "       'DALLARA', 'FIAT GROUP', 'MASERATI', 'ALFA ROMEO', 'FERRARI',\n",
       "       'LAMBORGHINI', 'DR AUTOMOBILES', 'MERCEDES AMG', 'NEXT EGO MOBILE',\n",
       "       'PORSCHE', 'AUDI SPORT', 'FORD WERKE GMBH', 'MERCEDES-BENZ AG',\n",
       "       'ALPINA', 'OPEL AUTOMOBILE', 'PSA', 'SEAT', 'AUTOMOBILES PEUGEOT',\n",
       "       'RENAULT', 'RENAULT TRUCKS', 'AUTOMOBILES CITROEN', 'ALPINE',\n",
       "       'SECMA', 'DACIA', 'BUGATTI RIMAC', 'AUDI HUNGARIA',\n",
       "       'MAGYAR SUZUKI', 'KIA SLOVAKIA', 'MORGAN',\n",
       "       'JAGUAR LAND ROVER LIMITED', 'MCLAREN', 'ROLLS-ROYCE', 'LOTUS',\n",
       "       'ASTON MARTIN', 'CATERHAM', 'BMW GMBH'], dtype=object)"
      ]
     },
     "execution_count": 159,
     "metadata": {},
     "output_type": "execute_result"
    }
   ],
   "source": [
    "cars_de['Mh'].unique() "
   ]
  },
  {
   "cell_type": "code",
   "execution_count": 160,
   "id": "ff0afce1",
   "metadata": {},
   "outputs": [
    {
     "data": {
      "text/plain": [
       "0"
      ]
     },
     "execution_count": 160,
     "metadata": {},
     "output_type": "execute_result"
    }
   ],
   "source": [
    "cars_de['Mh'].isna().sum()"
   ]
  },
  {
   "cell_type": "code",
   "execution_count": 161,
   "id": "458eb675",
   "metadata": {},
   "outputs": [
    {
     "data": {
      "text/plain": [
       "array(['SKODA AUTO AS', 'TESLA INC', 'SAIC MOTOR CORPORATION LTD',\n",
       "       'AA-IVA', 'HENAN SUDA ELECTRIC VEHICLE TECHNOLOGY CO LTD',\n",
       "       'DFSK MOTOR CO LTD', 'JIANGLING MOTOR HOLDING CO LTD',\n",
       "       'VOLVO CAR CORPORATION', 'LANZHOU ZHIDOU ELECTRIC VEHICLE CO LTD',\n",
       "       'MITSUBISHI MOTORS THAILAND CO LTD',\n",
       "       'HYUNDAI ASSAN OTOMOTIV SANAYI VE TICARET AS',\n",
       "       'BENTLEY MOTORS LTD', 'NISSAN AUTOMOTIVE EUROPE SAS',\n",
       "       'HYUNDAI MOTOR MANUFACTURING CZECH SRO', 'HYUNDAI MOTOR COMPANY',\n",
       "       'KIA CORPORATION', 'SSANGYONG MOTOR COMPANY',\n",
       "       'ZHAOQING XIAOPENG INVESTMENT OF NEW ENERGY CO LTD',\n",
       "       'ZHEJIANG GEELY AUTOMOBILE CO LTD',\n",
       "       'BYD AUTO INDUSTRY COMPANY LIMITED',\n",
       "       'GREAT WALL MOTOR COMPANY LIMITED', 'NIO CO',\n",
       "       'ANHUI JIANGHUAI AUTOMOBILE GROUP CORP LTD',\n",
       "       'MITSUBISHI MOTORS CORPORATION',\n",
       "       'NANJING GOLDEN DRAGON BUS CO LTD', 'POLESTAR PERFORMANCE AB',\n",
       "       'VOLKSWAGEN AG', 'AUDI AG', 'LADA AUTOMOBILE GMBH',\n",
       "       'DONKERVOORT AUTOMOBIELEN BV', 'TOYOTA MOTOR EUROPE NV SA',\n",
       "       'TOYOTA MOTOR CORPORATION', 'BAYERISCHE MOTOREN WERKE AG',\n",
       "       'FCA US LLC', 'MAZDA MOTOR CORPORATION', 'LUCID USA INC',\n",
       "       'SUZUKI MOTOR CORPORATION',\n",
       "       'FORD MOTOR COMPANY OF AUSTRALIA PTY LIMITED',\n",
       "       'SMART AUTOMOBILE CO LTD', 'SUBARU CORPORATION',\n",
       "       'FORD MOTOR COMPANY', 'GENERAL MOTORS HOLDINGS LLC',\n",
       "       'HONDA MOTOR CO LTD', 'MAZDA MOTOR LOGISTICS EUROPE NV',\n",
       "       'FABBRICA DALLARA SRL', 'FCA ITALY SPA', 'MASERATI SPA',\n",
       "       'ALFA ROMEO SPA', 'FERRARI SPA', 'AUTOMOBILI LAMBORGHINI SPA',\n",
       "       'DR AUTOMOBILES SRL', 'MERCEDES-AMG GMBH', 'NEXT E.GO MOBILE SE',\n",
       "       'DR ING HCF PORSCHE AG', 'AUDI SPORT GMBH', 'FORD WERKE GMBH',\n",
       "       'MERCEDES-BENZ AG', 'ALPINA BURKARD BOVENSIEPEN GMBH E CO KG',\n",
       "       'OPEL AUTOMOBILE GMBH', 'PSA AUTOMOBILES SA', 'SEAT SA',\n",
       "       'AUTOMOBILES PEUGEOT', 'RENAULT SAS', 'RENAULT TRUCKS',\n",
       "       'AUTOMOBILES CITROEN', 'MANUFACTURE ALPINE DIEPPE JEAN REDELE',\n",
       "       'SECMA SAS', 'AUTOMOBILE DACIA SA', 'BUGATTI RIMAC DOO',\n",
       "       'AUDI HUNGARIA ZRT', 'MAGYAR SUZUKI CORPORATION LTD',\n",
       "       'KIA SLOVAKIA SRO', 'MORGAN TECHNOLOGIES LTD',\n",
       "       'JAGUAR LAND ROVER LIMITED', 'MCLAREN AUTOMOTIVE LIMITED',\n",
       "       'ROLLS-ROYCE MOTOR CARS LTD', 'LOTUS CARS LIMITED',\n",
       "       'ASTON MARTIN LAGONDA LTD', 'CATERHAM CARS LIMITED', 'BMW M GMBH'],\n",
       "      dtype=object)"
      ]
     },
     "execution_count": 161,
     "metadata": {},
     "output_type": "execute_result"
    }
   ],
   "source": [
    "cars_de['Man'].unique() \n",
    "#can drop this, do not need so much granularity"
   ]
  },
  {
   "cell_type": "code",
   "execution_count": 162,
   "id": "55e7cf87",
   "metadata": {},
   "outputs": [
    {
     "data": {
      "text/plain": [
       "array([nan])"
      ]
     },
     "execution_count": 162,
     "metadata": {},
     "output_type": "execute_result"
    }
   ],
   "source": [
    "cars_de['MMS'].unique() \n",
    "#can drop this"
   ]
  },
  {
   "cell_type": "code",
   "execution_count": 163,
   "id": "4fbc406c",
   "metadata": {},
   "outputs": [
    {
     "data": {
      "text/plain": [
       "array(['e8*2007/46*0349*14', 'e8*2007/46*0349*15', 'e8*2007/46*0349*17',\n",
       "       ..., 'e6*2007/46*0485*03', 'e6*2007/46*0485*04',\n",
       "       'e4*2007/46*1399*15'], dtype=object)"
      ]
     },
     "execution_count": 163,
     "metadata": {},
     "output_type": "execute_result"
    }
   ],
   "source": [
    "cars_de['Tan'].unique() \n",
    "#can drop this"
   ]
  },
  {
   "cell_type": "code",
   "execution_count": 164,
   "id": "6e175ec6",
   "metadata": {},
   "outputs": [
    {
     "data": {
      "text/plain": [
       "array(['NW', '003', 'AS23P-L', ..., 'T32', 'XU7(EU.M)', 'K14'],\n",
       "      dtype=object)"
      ]
     },
     "execution_count": 164,
     "metadata": {},
     "output_type": "execute_result"
    }
   ],
   "source": [
    "cars_de['T'].unique() \n",
    "#can drop this"
   ]
  },
  {
   "cell_type": "code",
   "execution_count": 165,
   "id": "8b7ac34e",
   "metadata": {},
   "outputs": [
    {
     "data": {
      "text/plain": [
       "array(['ABCDLAAX0', 'Y5LD', 'Y6LR', ..., 'AH2S', 'ACDNFEX11', 'ACDTRAX01'],\n",
       "      dtype=object)"
      ]
     },
     "execution_count": 165,
     "metadata": {},
     "output_type": "execute_result"
    }
   ],
   "source": [
    "cars_de['Va'].unique() \n",
    "#can drop this"
   ]
  },
  {
   "cell_type": "code",
   "execution_count": 166,
   "id": "6c003cc8",
   "metadata": {},
   "outputs": [
    {
     "data": {
      "text/plain": [
       "array(['NFD7FD7CW0094BISTNK4C1A0A', 'MFD7FD7CW0094BISTNK3S1A0A',\n",
       "       'NFM6FM6AJ0214BISTNK3C1A0A', ..., 'HNSP-A1D800', '5GFP-A1D800',\n",
       "       'FM6SFM6C90124BIVL1C18BCA8M15'], dtype=object)"
      ]
     },
     "execution_count": 166,
     "metadata": {},
     "output_type": "execute_result"
    }
   ],
   "source": [
    "cars_de['Ve'].unique() \n",
    "#can drop this"
   ]
  },
  {
   "cell_type": "code",
   "execution_count": 167,
   "id": "5141d1c6",
   "metadata": {},
   "outputs": [
    {
     "data": {
      "text/plain": [
       "array(['SKODA', 'TESLA', 'MG. ROEWE', 'AUDI', 'VOLKSWAGEN. VW', nan,\n",
       "       'SUDA', 'HONDA', 'DFSK. SERES. SOKON', 'DFSK', 'FORD', 'AIWAYS',\n",
       "       'VOLVO', 'DFSK. SOKON', 'DXK6470AS2F', 'ZHIDOU. ZD. ELARIS',\n",
       "       'ZHIDOU. ZD', 'MITSUBISHI', 'ISUZU', 'MAHINDRA', 'JEEP', 'SAIC MG',\n",
       "       'TUERKIYE`NIN OTOMOBILI G.', 'HYUNDAI MOTORSPORT', 'HYUNDAI',\n",
       "       'BENTLEY', 'NISSAN', 'HONDA MOTOR', 'HYUNDAI MOTOR',\n",
       "       'HYUNDAI. GENESIS', 'GENESIS', 'KIA', 'SSANGYONG', 'XPENG',\n",
       "       'SMART', 'LOTUS', 'ZEEKR', 'LYNK&CO', 'MERCEDES-BENZ', 'XINGYUE',\n",
       "       'LISTERBELL', 'BMW BRILLIANCE (RC)', 'BMW', 'BYD', 'CITROEN',\n",
       "       'PEUGEOT', 'FAW', 'JETTA', 'GREAT WALL MOTOR COMPANY', 'ORA',\n",
       "       'GREAT WALL MOTOR COMPANY LIMITED', 'WEY', 'TANK', 'NIO', 'JAC',\n",
       "       'SKYWELL. SKYWORTH', 'SKYWELL', 'BAIC', 'POLESTAR', 'MAZDA',\n",
       "       'BRONTO', 'LADA', 'INVEST-AUTO', 'AVTOVAZ', 'WAS', 'DONKERVOORT',\n",
       "       'UAZ', 'APAL', 'TOYOTA', 'BMW M', 'LUCID MOTORS', 'INFINITI',\n",
       "       'SUZUKI', 'RIVIAN', 'DODGE', 'FCA', 'FIAT', 'SUBARU', 'RAM',\n",
       "       'CHEVROLET', 'GMC', 'CADILLAC', 'CHRYSLER', 'LEXUS', 'DALLARA',\n",
       "       'DALARA', 'PAGANI', 'MASERATI', 'ALFA ROMEO', 'IVECO', 'FERRARI',\n",
       "       'ITINEO', 'LAMBORGHINI', 'DR AUTOMOBILES S.R.L.', 'MINI',\n",
       "       'MERCEDES-AMG', 'E.GO', 'PORSCHE', 'Y1A', 'AUDI SPORT', 'BMW I',\n",
       "       'INEOS AUTOMOTIVE GMBH', 'BUSCONCEPT', 'RENAULT', 'RENAULT SPORT',\n",
       "       'FORD-CNG-TECHNIK', 'RANDGER', 'KLASSEN', 'ALPINA', 'AUDI AG',\n",
       "       'MERCEDES BENZQ', 'OPEL', 'BRABUS AUTOMOTIVE', 'APOLLO',\n",
       "       'WIESMANN', 'TOGG', 'VOLKSWAGEN MOTORSPORT', 'RUF', 'BOLDMEN',\n",
       "       'LETECH', 'FORD DEH', 'FAISSNER PETERMEIER FAHRZ', 'SEAT', 'CUPRA',\n",
       "       'ALPINE', 'SECMA', 'DS AUTOMOBILES', 'DS', 'DACIA', 'RIMAC',\n",
       "       'TATA', 'VINFAST', 'MORGAN', 'WESTFIELD(GB)', 'JAGUAR',\n",
       "       'LAND ROVER', 'MCLAREN', 'ROLLS-ROYCE', 'ASTON MARTIN',\n",
       "       'CATERHAM CARS LTD', 'CATERHAM CARS LTD.',\n",
       "       'HYUNDAI MOTOR CORPORATION', 'HYUNDAI MOTOR COMPANY'], dtype=object)"
      ]
     },
     "execution_count": 167,
     "metadata": {},
     "output_type": "execute_result"
    }
   ],
   "source": [
    "cars_de['Mk'].unique() \n",
    "#can drop this"
   ]
  },
  {
   "cell_type": "code",
   "execution_count": 168,
   "id": "40dfd793",
   "metadata": {},
   "outputs": [
    {
     "data": {
      "text/plain": [
       "array(['KAMIQ', 'MODEL Y', 'MG RX6 PLUG-IN HYBRID', ..., 'CIVIC TYPE R',\n",
       "       'NISSAN MICRA', 'SX4 S-CROSS'], dtype=object)"
      ]
     },
     "execution_count": 168,
     "metadata": {},
     "output_type": "execute_result"
    }
   ],
   "source": [
    "cars_de['Cn'].unique() "
   ]
  },
  {
   "cell_type": "code",
   "execution_count": 169,
   "id": "6827b97e",
   "metadata": {},
   "outputs": [
    {
     "data": {
      "text/plain": [
       "array(['M1', 'M1G', 'N1G', 'N1', 'N2'], dtype=object)"
      ]
     },
     "execution_count": 169,
     "metadata": {},
     "output_type": "execute_result"
    }
   ],
   "source": [
    "cars_de['Ct'].unique() "
   ]
  },
  {
   "cell_type": "code",
   "execution_count": 170,
   "id": "0c956533",
   "metadata": {},
   "outputs": [
    {
     "data": {
      "text/plain": [
       "array(['M1', 'M1G'], dtype=object)"
      ]
     },
     "execution_count": 170,
     "metadata": {},
     "output_type": "execute_result"
    }
   ],
   "source": [
    "cars_de['Cr'].unique() "
   ]
  },
  {
   "cell_type": "code",
   "execution_count": 171,
   "id": "4ef485c2",
   "metadata": {},
   "outputs": [
    {
     "data": {
      "text/plain": [
       "array([1])"
      ]
     },
     "execution_count": 171,
     "metadata": {},
     "output_type": "execute_result"
    }
   ],
   "source": [
    "cars_de['r'].unique() \n",
    "#can drop this"
   ]
  },
  {
   "cell_type": "code",
   "execution_count": 172,
   "id": "306cb9da",
   "metadata": {},
   "outputs": [
    {
     "data": {
      "text/plain": [
       "array([1262., 1277., 1242., ..., 1862., 1105., 1329.])"
      ]
     },
     "execution_count": 172,
     "metadata": {},
     "output_type": "execute_result"
    }
   ],
   "source": [
    "cars_de['m (kg)'].unique() \n",
    "#can drop this"
   ]
  },
  {
   "cell_type": "code",
   "execution_count": 173,
   "id": "3ff63afa",
   "metadata": {},
   "outputs": [
    {
     "data": {
      "text/plain": [
       "array([1398., 1393., 1361., ..., 1049., 1054., 1070.])"
      ]
     },
     "execution_count": 173,
     "metadata": {},
     "output_type": "execute_result"
    }
   ],
   "source": [
    "cars_de['Mt'].unique() \n",
    "#can drop this"
   ]
  },
  {
   "cell_type": "code",
   "execution_count": 174,
   "id": "9652cde1",
   "metadata": {},
   "outputs": [
    {
     "data": {
      "text/plain": [
       "array([nan])"
      ]
     },
     "execution_count": 174,
     "metadata": {},
     "output_type": "execute_result"
    }
   ],
   "source": [
    "cars_de['De'].unique() \n",
    "#can drop this"
   ]
  },
  {
   "cell_type": "code",
   "execution_count": 175,
   "id": "2a4acf51",
   "metadata": {},
   "outputs": [
    {
     "data": {
      "text/plain": [
       "array([nan])"
      ]
     },
     "execution_count": 175,
     "metadata": {},
     "output_type": "execute_result"
    }
   ],
   "source": [
    "cars_de['Vf'].unique() \n",
    "#can drop this"
   ]
  },
  {
   "cell_type": "code",
   "execution_count": 176,
   "id": "bc2ecd45",
   "metadata": {},
   "outputs": [
    {
     "data": {
      "text/plain": [
       "array(['P'], dtype=object)"
      ]
     },
     "execution_count": 176,
     "metadata": {},
     "output_type": "execute_result"
    }
   ],
   "source": [
    "cars_de['Status'].unique() "
   ]
  },
  {
   "cell_type": "code",
   "execution_count": 177,
   "id": "72a4f7dd",
   "metadata": {},
   "outputs": [
    {
     "data": {
      "text/plain": [
       "array([ 5.9,  5.4,  5.5,  5.8,  6.1,  5.7,  5.3,  6. ,  nan,  8. ,  1.8,\n",
       "        7.2,  6.6,  2. ,  1.9,  0.8,  0.7,  2.5,  2.6,  2.4,  1.1,  1.2,\n",
       "        1. ,  7.8,  7.6,  5.2,  5.1,  5. ,  6.5,  6.4,  6.3,  5.6,  6.2,\n",
       "        7.7,  8.4,  4.7,  4.4,  4.5,  4.6,  4.8,  1.4,  6.7,  7.1,  7. ,\n",
       "        1.6,  4.9,  0.9,  8.3,  7.5,  8.1,  8.2,  8.7,  8.6,  0.6, 11.7,\n",
       "       11.5,  8.5,  2.2, 11.3, 11.2,  2.1, 11.4,  2.3, 11.1, 10.9, 11.6,\n",
       "       11. ,  8.8, 10.8,  2.8,  3. ,  2.9,  1.3,  6.8,  1.5,  7.4,  6.9,\n",
       "        7.9,  7.3,  8.9,  9. , 10.7,  9.2,  9.3,  9.1,  3.8, 10.4, 10.5,\n",
       "       10.2, 10.3, 10.1, 10. ,  9.9, 10.6,  9.4, 12. , 11.8, 11.9,  3.5,\n",
       "        4.1, 14. , 14.3,  9.7, 12.1,  3.1, 12.3, 13. , 16.1, 16.4,  9.8,\n",
       "       13.1, 12.8, 12.9, 12.6, 12.5, 16. , 14.2, 16.9, 12.7,  2.7,  9.6,\n",
       "       12.2,  3.3,  3.2,  3.4,  3.9,  3.7,  9.5,  4. , 13.3, 13.5, 13.4,\n",
       "       13.2, 12.4,  1.7, 16.7,  0.5, 13.8, 13.7, 13.6, 13.9, 14.1, 14.9,\n",
       "       14.8, 15. , 15.1, 15.2, 15.3, 14.7, 20.1, 14.4, 14.5, 15.7, 15.6,\n",
       "       15.5, 15.4, 15.8, 16.3, 16.2, 15.9, 16.5, 16.6, 24.1,  4.3,  4.2,\n",
       "       14.6])"
      ]
     },
     "execution_count": 177,
     "metadata": {},
     "output_type": "execute_result"
    }
   ],
   "source": [
    "cars_de['Fuel consumption '].unique() "
   ]
  },
  {
   "cell_type": "code",
   "execution_count": 178,
   "id": "59836004",
   "metadata": {},
   "outputs": [
    {
     "data": {
      "text/plain": [
       "array([ nan,  52., 380., 310., 400., 320., 370., 402., 440., 263., 435.,\n",
       "       350., 450., 210.,  54., 225., 255.,  48.,  50., 270., 385., 534.,\n",
       "        62., 484.,  58., 485., 520., 517., 470., 466., 465., 455.,  57.,\n",
       "       339.,  69., 148., 420., 480., 460., 477., 505., 456., 131., 491.,\n",
       "        60.,  56.,  53.,  84.,  83.,  78.,  86.,  87.,  81.,  91.,  79.,\n",
       "        85.,  66.,  71.,  65.,  70.,  68., 799., 200., 237.,  59., 410.,\n",
       "       441., 426.,  61.,  47.,  46., 408.,  49., 394.,  55., 282., 190.,\n",
       "        20.,  72.,  75.,  74.,  77.,  64.,  63., 462., 403., 478., 413.,\n",
       "       482., 469., 472., 396., 476., 407., 414., 434., 405., 437., 436.,\n",
       "       425., 418., 369., 365., 345., 330.,  42.,  67., 150., 421., 274.,\n",
       "       267., 404., 273., 265., 417., 272., 100., 106., 105., 101., 104.,\n",
       "       486., 113., 112., 121.,  73., 471., 454., 442., 495., 808., 771.,\n",
       "       843., 737., 774., 700., 705., 668., 627.,  76.,  80., 493.,  51.,\n",
       "        45., 140., 153., 145., 152., 159., 157., 116., 114., 129., 126.,\n",
       "       115., 132., 130., 117., 510., 359., 540., 253., 227., 313., 163.,\n",
       "       311., 331., 351., 361., 322., 332., 340., 352., 353., 354., 349.,\n",
       "       342., 178., 230., 415.,  40., 432., 362.])"
      ]
     },
     "execution_count": 178,
     "metadata": {},
     "output_type": "execute_result"
    }
   ],
   "source": [
    "cars_de['Electric range (km)'].unique() \n",
    "#this is the column that will help me assess the % of EV"
   ]
  },
  {
   "cell_type": "code",
   "execution_count": 179,
   "id": "c0c63575",
   "metadata": {},
   "outputs": [
    {
     "data": {
      "text/html": [
       "<div>\n",
       "<style scoped>\n",
       "    .dataframe tbody tr th:only-of-type {\n",
       "        vertical-align: middle;\n",
       "    }\n",
       "\n",
       "    .dataframe tbody tr th {\n",
       "        vertical-align: top;\n",
       "    }\n",
       "\n",
       "    .dataframe thead th {\n",
       "        text-align: right;\n",
       "    }\n",
       "</style>\n",
       "<table border=\"1\" class=\"dataframe\">\n",
       "  <thead>\n",
       "    <tr style=\"text-align: right;\">\n",
       "      <th></th>\n",
       "      <th>ID</th>\n",
       "      <th>Country</th>\n",
       "      <th>Mh</th>\n",
       "      <th>Cn</th>\n",
       "      <th>Ct</th>\n",
       "      <th>Cr</th>\n",
       "      <th>Status</th>\n",
       "      <th>year</th>\n",
       "      <th>Date of registration</th>\n",
       "      <th>Fuel consumption</th>\n",
       "      <th>Electric range (km)</th>\n",
       "    </tr>\n",
       "  </thead>\n",
       "  <tbody>\n",
       "    <tr>\n",
       "      <th>579410</th>\n",
       "      <td>80049550</td>\n",
       "      <td>DE</td>\n",
       "      <td>SKODA</td>\n",
       "      <td>KAMIQ</td>\n",
       "      <td>M1</td>\n",
       "      <td>M1</td>\n",
       "      <td>P</td>\n",
       "      <td>2022</td>\n",
       "      <td>2022-10-17</td>\n",
       "      <td>5.9</td>\n",
       "      <td>NaN</td>\n",
       "    </tr>\n",
       "    <tr>\n",
       "      <th>579411</th>\n",
       "      <td>80049554</td>\n",
       "      <td>DE</td>\n",
       "      <td>SKODA</td>\n",
       "      <td>KAMIQ</td>\n",
       "      <td>M1</td>\n",
       "      <td>M1</td>\n",
       "      <td>P</td>\n",
       "      <td>2022</td>\n",
       "      <td>2022-05-24</td>\n",
       "      <td>5.9</td>\n",
       "      <td>NaN</td>\n",
       "    </tr>\n",
       "    <tr>\n",
       "      <th>579412</th>\n",
       "      <td>80049559</td>\n",
       "      <td>DE</td>\n",
       "      <td>SKODA</td>\n",
       "      <td>KAMIQ</td>\n",
       "      <td>M1</td>\n",
       "      <td>M1</td>\n",
       "      <td>P</td>\n",
       "      <td>2022</td>\n",
       "      <td>2022-04-29</td>\n",
       "      <td>5.4</td>\n",
       "      <td>NaN</td>\n",
       "    </tr>\n",
       "    <tr>\n",
       "      <th>579413</th>\n",
       "      <td>80049562</td>\n",
       "      <td>DE</td>\n",
       "      <td>SKODA</td>\n",
       "      <td>KAMIQ</td>\n",
       "      <td>M1</td>\n",
       "      <td>M1</td>\n",
       "      <td>P</td>\n",
       "      <td>2022</td>\n",
       "      <td>2022-05-11</td>\n",
       "      <td>5.9</td>\n",
       "      <td>NaN</td>\n",
       "    </tr>\n",
       "    <tr>\n",
       "      <th>579414</th>\n",
       "      <td>80049563</td>\n",
       "      <td>DE</td>\n",
       "      <td>SKODA</td>\n",
       "      <td>KAMIQ</td>\n",
       "      <td>M1</td>\n",
       "      <td>M1</td>\n",
       "      <td>P</td>\n",
       "      <td>2022</td>\n",
       "      <td>2022-05-10</td>\n",
       "      <td>5.4</td>\n",
       "      <td>NaN</td>\n",
       "    </tr>\n",
       "    <tr>\n",
       "      <th>...</th>\n",
       "      <td>...</td>\n",
       "      <td>...</td>\n",
       "      <td>...</td>\n",
       "      <td>...</td>\n",
       "      <td>...</td>\n",
       "      <td>...</td>\n",
       "      <td>...</td>\n",
       "      <td>...</td>\n",
       "      <td>...</td>\n",
       "      <td>...</td>\n",
       "      <td>...</td>\n",
       "    </tr>\n",
       "    <tr>\n",
       "      <th>9479257</th>\n",
       "      <td>79719120</td>\n",
       "      <td>DE</td>\n",
       "      <td>DUPLICATE</td>\n",
       "      <td>TOYOTA RAV4</td>\n",
       "      <td>M1</td>\n",
       "      <td>M1</td>\n",
       "      <td>P</td>\n",
       "      <td>2022</td>\n",
       "      <td>2022-08-11</td>\n",
       "      <td>NaN</td>\n",
       "      <td>NaN</td>\n",
       "    </tr>\n",
       "    <tr>\n",
       "      <th>9479258</th>\n",
       "      <td>79898480</td>\n",
       "      <td>DE</td>\n",
       "      <td>DUPLICATE</td>\n",
       "      <td>BAYON</td>\n",
       "      <td>M1</td>\n",
       "      <td>M1</td>\n",
       "      <td>P</td>\n",
       "      <td>2022</td>\n",
       "      <td>2022-08-29</td>\n",
       "      <td>NaN</td>\n",
       "      <td>NaN</td>\n",
       "    </tr>\n",
       "    <tr>\n",
       "      <th>9479259</th>\n",
       "      <td>79898481</td>\n",
       "      <td>DE</td>\n",
       "      <td>DUPLICATE</td>\n",
       "      <td>BAYON</td>\n",
       "      <td>M1</td>\n",
       "      <td>M1</td>\n",
       "      <td>P</td>\n",
       "      <td>2022</td>\n",
       "      <td>2022-08-29</td>\n",
       "      <td>NaN</td>\n",
       "      <td>NaN</td>\n",
       "    </tr>\n",
       "    <tr>\n",
       "      <th>9479260</th>\n",
       "      <td>79978520</td>\n",
       "      <td>DE</td>\n",
       "      <td>DUPLICATE</td>\n",
       "      <td>I 30</td>\n",
       "      <td>M1</td>\n",
       "      <td>M1</td>\n",
       "      <td>P</td>\n",
       "      <td>2022</td>\n",
       "      <td>2022-04-05</td>\n",
       "      <td>NaN</td>\n",
       "      <td>NaN</td>\n",
       "    </tr>\n",
       "    <tr>\n",
       "      <th>9479261</th>\n",
       "      <td>79987802</td>\n",
       "      <td>DE</td>\n",
       "      <td>DUPLICATE</td>\n",
       "      <td>TUCSON IX35</td>\n",
       "      <td>M1</td>\n",
       "      <td>M1</td>\n",
       "      <td>P</td>\n",
       "      <td>2022</td>\n",
       "      <td>2022-07-26</td>\n",
       "      <td>NaN</td>\n",
       "      <td>NaN</td>\n",
       "    </tr>\n",
       "  </tbody>\n",
       "</table>\n",
       "<p>2570994 rows × 11 columns</p>\n",
       "</div>"
      ],
      "text/plain": [
       "               ID Country         Mh           Cn  Ct  Cr Status  year  \\\n",
       "579410   80049550      DE      SKODA        KAMIQ  M1  M1      P  2022   \n",
       "579411   80049554      DE      SKODA        KAMIQ  M1  M1      P  2022   \n",
       "579412   80049559      DE      SKODA        KAMIQ  M1  M1      P  2022   \n",
       "579413   80049562      DE      SKODA        KAMIQ  M1  M1      P  2022   \n",
       "579414   80049563      DE      SKODA        KAMIQ  M1  M1      P  2022   \n",
       "...           ...     ...        ...          ...  ..  ..    ...   ...   \n",
       "9479257  79719120      DE  DUPLICATE  TOYOTA RAV4  M1  M1      P  2022   \n",
       "9479258  79898480      DE  DUPLICATE        BAYON  M1  M1      P  2022   \n",
       "9479259  79898481      DE  DUPLICATE        BAYON  M1  M1      P  2022   \n",
       "9479260  79978520      DE  DUPLICATE         I 30  M1  M1      P  2022   \n",
       "9479261  79987802      DE  DUPLICATE  TUCSON IX35  M1  M1      P  2022   \n",
       "\n",
       "        Date of registration  Fuel consumption   Electric range (km)  \n",
       "579410            2022-10-17                5.9                  NaN  \n",
       "579411            2022-05-24                5.9                  NaN  \n",
       "579412            2022-04-29                5.4                  NaN  \n",
       "579413            2022-05-11                5.9                  NaN  \n",
       "579414            2022-05-10                5.4                  NaN  \n",
       "...                      ...                ...                  ...  \n",
       "9479257           2022-08-11                NaN                  NaN  \n",
       "9479258           2022-08-29                NaN                  NaN  \n",
       "9479259           2022-08-29                NaN                  NaN  \n",
       "9479260           2022-04-05                NaN                  NaN  \n",
       "9479261           2022-07-26                NaN                  NaN  \n",
       "\n",
       "[2570994 rows x 11 columns]"
      ]
     },
     "execution_count": 179,
     "metadata": {},
     "output_type": "execute_result"
    }
   ],
   "source": [
    "cars_de1= cars_de.drop(['VFN', 'Mp', 'Man', 'MMS', 'Tan', 'T', 'Va', 'Ve', 'Mk', 'r', 'm (kg)', 'Mt', 'De', 'Vf'], axis=1)\n",
    "cars_de1"
   ]
  },
  {
   "cell_type": "markdown",
   "id": "55e391dd",
   "metadata": {},
   "source": [
    "# Meaning of Ct column"
   ]
  },
  {
   "cell_type": "markdown",
   "id": "a7f84ef1",
   "metadata": {},
   "source": [
    "M \n",
    "\n",
    "Power-driven vehicles having at least four wheels and used for the carriage of passengers.\n",
    "\n",
    "M1\n",
    "Vehicles used for the carriage of passengers and comprising not more than eight seats in addition to the driver's seat.\n",
    "M2 \n",
    "\n",
    "Vehicles used for the carriage of passengers, comprising more than eight seats in addition to the driver's seat, and having a maximum mass not exceeding 5 tonnes. \n",
    "\n",
    "M3 \n",
    "\n",
    "Vehicles used for the carriage of passengers, comprising more than eight seats in addition to the driver's seat, and having a maximum mass exceeding 5 tonnes. \n",
    "\n",
    "N \n",
    "\n",
    "Power-driven vehicles having at least four wheels and used for the carriage of goods \n",
    "\n",
    "N1 \n",
    "\n",
    "Vehicles used for the carriage of goods and having a maximum mass not exceeding 3.5 tonnes. \n",
    "\n",
    "N2 \n",
    "\n",
    "Vehicles used for the carriage of goods and having a maximum mass exceeding 3.5 tonnes but not exceeding 12 tonnes. "
   ]
  },
  {
   "cell_type": "code",
   "execution_count": 180,
   "id": "784a58de",
   "metadata": {},
   "outputs": [],
   "source": [
    "#saving both data frames to new csv's\n",
    "\n",
    "cars_de1.to_csv('cars_de.csv', index=False)"
   ]
  },
  {
   "cell_type": "code",
   "execution_count": 181,
   "id": "e3800fda",
   "metadata": {},
   "outputs": [],
   "source": [
    "charging_df.to_csv('charging_df.csv', index=False)"
   ]
  },
  {
   "cell_type": "code",
   "execution_count": null,
   "id": "45799320",
   "metadata": {},
   "outputs": [],
   "source": []
  }
 ],
 "metadata": {
  "kernelspec": {
   "display_name": "Python 3 (ipykernel)",
   "language": "python",
   "name": "python3"
  },
  "language_info": {
   "codemirror_mode": {
    "name": "ipython",
    "version": 3
   },
   "file_extension": ".py",
   "mimetype": "text/x-python",
   "name": "python",
   "nbconvert_exporter": "python",
   "pygments_lexer": "ipython3",
   "version": "3.11.5"
  }
 },
 "nbformat": 4,
 "nbformat_minor": 5
}
